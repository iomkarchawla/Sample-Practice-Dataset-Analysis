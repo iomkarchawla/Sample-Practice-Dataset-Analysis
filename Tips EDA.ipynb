{
 "cells": [
  {
   "cell_type": "code",
   "execution_count": 5,
   "id": "73d82716-2749-4379-aeb3-76087e3c1632",
   "metadata": {},
   "outputs": [],
   "source": [
    "data = [23,24,33,55,22,44,5,6,25,26,27,28,29,30,31]"
   ]
  },
  {
   "cell_type": "code",
   "execution_count": 6,
   "id": "6161ad5e-92af-42a5-9a8b-e27bdf44eb94",
   "metadata": {},
   "outputs": [],
   "source": [
    "import pandas as pd"
   ]
  },
  {
   "cell_type": "code",
   "execution_count": 7,
   "id": "4e2764b2-e31b-4fe7-9f13-642942d05fa6",
   "metadata": {},
   "outputs": [],
   "source": [
    "data2 = pd.read_csv(\"https://raw.githubusercontent.com/sunnysavita10/Statistics-With-Python-TheCompleteGuide/main/Iris.csv\")"
   ]
  },
  {
   "cell_type": "code",
   "execution_count": 8,
   "id": "c1df3553-fae4-40d3-908c-ad29ec181a38",
   "metadata": {},
   "outputs": [],
   "source": [
    "data3 = pd.read_csv(\"https://raw.githubusercontent.com/sunnysavita10/Statistics-With-Python-TheCompleteGuide/main/Titanic.csv\")"
   ]
  },
  {
   "cell_type": "code",
   "execution_count": 9,
   "id": "1189ff39-e9a1-416a-9e3e-b79c40fc24ec",
   "metadata": {},
   "outputs": [
    {
     "data": {
      "text/html": [
       "<div>\n",
       "<style scoped>\n",
       "    .dataframe tbody tr th:only-of-type {\n",
       "        vertical-align: middle;\n",
       "    }\n",
       "\n",
       "    .dataframe tbody tr th {\n",
       "        vertical-align: top;\n",
       "    }\n",
       "\n",
       "    .dataframe thead th {\n",
       "        text-align: right;\n",
       "    }\n",
       "</style>\n",
       "<table border=\"1\" class=\"dataframe\">\n",
       "  <thead>\n",
       "    <tr style=\"text-align: right;\">\n",
       "      <th></th>\n",
       "      <th>Id</th>\n",
       "      <th>SepalLengthCm</th>\n",
       "      <th>SepalWidthCm</th>\n",
       "      <th>PetalLengthCm</th>\n",
       "      <th>PetalWidthCm</th>\n",
       "      <th>Species</th>\n",
       "    </tr>\n",
       "  </thead>\n",
       "  <tbody>\n",
       "    <tr>\n",
       "      <th>0</th>\n",
       "      <td>1</td>\n",
       "      <td>5.1</td>\n",
       "      <td>3.5</td>\n",
       "      <td>1.4</td>\n",
       "      <td>0.2</td>\n",
       "      <td>Iris-setosa</td>\n",
       "    </tr>\n",
       "    <tr>\n",
       "      <th>1</th>\n",
       "      <td>2</td>\n",
       "      <td>4.9</td>\n",
       "      <td>3.0</td>\n",
       "      <td>1.4</td>\n",
       "      <td>0.2</td>\n",
       "      <td>Iris-setosa</td>\n",
       "    </tr>\n",
       "    <tr>\n",
       "      <th>2</th>\n",
       "      <td>3</td>\n",
       "      <td>4.7</td>\n",
       "      <td>3.2</td>\n",
       "      <td>1.3</td>\n",
       "      <td>0.2</td>\n",
       "      <td>Iris-setosa</td>\n",
       "    </tr>\n",
       "    <tr>\n",
       "      <th>3</th>\n",
       "      <td>4</td>\n",
       "      <td>4.6</td>\n",
       "      <td>3.1</td>\n",
       "      <td>1.5</td>\n",
       "      <td>0.2</td>\n",
       "      <td>Iris-setosa</td>\n",
       "    </tr>\n",
       "    <tr>\n",
       "      <th>4</th>\n",
       "      <td>5</td>\n",
       "      <td>5.0</td>\n",
       "      <td>3.6</td>\n",
       "      <td>1.4</td>\n",
       "      <td>0.2</td>\n",
       "      <td>Iris-setosa</td>\n",
       "    </tr>\n",
       "  </tbody>\n",
       "</table>\n",
       "</div>"
      ],
      "text/plain": [
       "   Id  SepalLengthCm  SepalWidthCm  PetalLengthCm  PetalWidthCm      Species\n",
       "0   1            5.1           3.5            1.4           0.2  Iris-setosa\n",
       "1   2            4.9           3.0            1.4           0.2  Iris-setosa\n",
       "2   3            4.7           3.2            1.3           0.2  Iris-setosa\n",
       "3   4            4.6           3.1            1.5           0.2  Iris-setosa\n",
       "4   5            5.0           3.6            1.4           0.2  Iris-setosa"
      ]
     },
     "execution_count": 9,
     "metadata": {},
     "output_type": "execute_result"
    }
   ],
   "source": [
    "data2.head()"
   ]
  },
  {
   "cell_type": "code",
   "execution_count": 10,
   "id": "e94e3bde-f0ca-4b65-be7a-3595f69cbdde",
   "metadata": {},
   "outputs": [
    {
     "ename": "NameError",
     "evalue": "name 'pandas' is not defined",
     "output_type": "error",
     "traceback": [
      "\u001b[0;31m---------------------------------------------------------------------------\u001b[0m",
      "\u001b[0;31mNameError\u001b[0m                                 Traceback (most recent call last)",
      "Cell \u001b[0;32mIn[10], line 1\u001b[0m\n\u001b[0;32m----> 1\u001b[0m \u001b[43mpandas\u001b[49m\n\u001b[1;32m      2\u001b[0m numpy\n\u001b[1;32m      3\u001b[0m matplotlib \u001b[38;5;129;01mand\u001b[39;00m seabors\n",
      "\u001b[0;31mNameError\u001b[0m: name 'pandas' is not defined"
     ]
    }
   ],
   "source": [
    "pandas\n",
    "numpy\n",
    "matplotlib and seabors\n",
    "scipy\n",
    "statsmodel\n",
    "stastistics"
   ]
  },
  {
   "cell_type": "code",
   "execution_count": 11,
   "id": "7d65938c-334c-4a34-9713-0f7b591edda6",
   "metadata": {},
   "outputs": [],
   "source": [
    "data_copy = data.copy()"
   ]
  },
  {
   "cell_type": "code",
   "execution_count": 12,
   "id": "c6b39d2c-7472-40ae-9aea-a5f7750e1124",
   "metadata": {},
   "outputs": [
    {
     "data": {
      "text/plain": [
       "[23, 24, 33, 55, 22, 44, 5, 6, 25, 26, 27, 28, 29, 30, 31]"
      ]
     },
     "execution_count": 12,
     "metadata": {},
     "output_type": "execute_result"
    }
   ],
   "source": [
    "data_copy"
   ]
  },
  {
   "cell_type": "code",
   "execution_count": 13,
   "id": "32abc706-007f-4f89-a09e-de2420e6b128",
   "metadata": {},
   "outputs": [],
   "source": [
    "data_copy.sort()"
   ]
  },
  {
   "cell_type": "code",
   "execution_count": 14,
   "id": "407e017f-47b2-44c7-ac6e-2c54a41c1ff1",
   "metadata": {},
   "outputs": [
    {
     "data": {
      "text/plain": [
       "[23, 24, 33, 55, 22, 44, 5, 6, 25, 26, 27, 28, 29, 30, 31]"
      ]
     },
     "execution_count": 14,
     "metadata": {},
     "output_type": "execute_result"
    }
   ],
   "source": [
    "data"
   ]
  },
  {
   "cell_type": "code",
   "execution_count": 15,
   "id": "553032de-c2bd-4166-b21c-0fe51e7c8968",
   "metadata": {},
   "outputs": [
    {
     "data": {
      "text/plain": [
       "[5, 6, 22, 23, 24, 25, 26, 27, 28, 29, 30, 31, 33, 44, 55]"
      ]
     },
     "execution_count": 15,
     "metadata": {},
     "output_type": "execute_result"
    }
   ],
   "source": [
    "data_copy"
   ]
  },
  {
   "cell_type": "code",
   "execution_count": 16,
   "id": "49cd67cd-52f3-46e0-83bf-b77f556ffcd2",
   "metadata": {},
   "outputs": [],
   "source": [
    "import numpy as np"
   ]
  },
  {
   "cell_type": "code",
   "execution_count": 17,
   "id": "4203ab97-f987-411a-ade8-31e8c1e50878",
   "metadata": {},
   "outputs": [
    {
     "data": {
      "text/plain": [
       "27.2"
      ]
     },
     "execution_count": 17,
     "metadata": {},
     "output_type": "execute_result"
    }
   ],
   "source": [
    "np.mean(data_copy)"
   ]
  },
  {
   "cell_type": "code",
   "execution_count": 18,
   "id": "ad983217-e4b7-42f1-8268-92b461441c28",
   "metadata": {},
   "outputs": [
    {
     "data": {
      "text/plain": [
       "27.0"
      ]
     },
     "execution_count": 18,
     "metadata": {},
     "output_type": "execute_result"
    }
   ],
   "source": [
    "np.median(data_copy)"
   ]
  },
  {
   "cell_type": "code",
   "execution_count": 19,
   "id": "9ee1c449-d6a9-42e8-a5ef-bdb5e3e1785e",
   "metadata": {},
   "outputs": [
    {
     "data": {
      "text/plain": [
       "5.843333333333334"
      ]
     },
     "execution_count": 19,
     "metadata": {},
     "output_type": "execute_result"
    }
   ],
   "source": [
    "np.mean(data2[\"SepalLengthCm\"])"
   ]
  },
  {
   "cell_type": "code",
   "execution_count": 20,
   "id": "39fa5fb6-6130-4726-9c34-0b1c312488cd",
   "metadata": {},
   "outputs": [
    {
     "ename": "AttributeError",
     "evalue": "module 'numpy' has no attribute 'mode'",
     "output_type": "error",
     "traceback": [
      "\u001b[0;31m---------------------------------------------------------------------------\u001b[0m",
      "\u001b[0;31mAttributeError\u001b[0m                            Traceback (most recent call last)",
      "Cell \u001b[0;32mIn[20], line 1\u001b[0m\n\u001b[0;32m----> 1\u001b[0m \u001b[43mnp\u001b[49m\u001b[38;5;241;43m.\u001b[39;49m\u001b[43mmode\u001b[49m(data)\n",
      "File \u001b[0;32m/opt/conda/lib/python3.10/site-packages/numpy/__init__.py:311\u001b[0m, in \u001b[0;36m__getattr__\u001b[0;34m(attr)\u001b[0m\n\u001b[1;32m    308\u001b[0m     \u001b[38;5;28;01mfrom\u001b[39;00m \u001b[38;5;21;01m.\u001b[39;00m\u001b[38;5;21;01mtesting\u001b[39;00m \u001b[38;5;28;01mimport\u001b[39;00m Tester\n\u001b[1;32m    309\u001b[0m     \u001b[38;5;28;01mreturn\u001b[39;00m Tester\n\u001b[0;32m--> 311\u001b[0m \u001b[38;5;28;01mraise\u001b[39;00m \u001b[38;5;167;01mAttributeError\u001b[39;00m(\u001b[38;5;124m\"\u001b[39m\u001b[38;5;124mmodule \u001b[39m\u001b[38;5;132;01m{!r}\u001b[39;00m\u001b[38;5;124m has no attribute \u001b[39m\u001b[38;5;124m\"\u001b[39m\n\u001b[1;32m    312\u001b[0m                      \u001b[38;5;124m\"\u001b[39m\u001b[38;5;132;01m{!r}\u001b[39;00m\u001b[38;5;124m\"\u001b[39m\u001b[38;5;241m.\u001b[39mformat(\u001b[38;5;18m__name__\u001b[39m, attr))\n",
      "\u001b[0;31mAttributeError\u001b[0m: module 'numpy' has no attribute 'mode'"
     ]
    }
   ],
   "source": [
    "np.mode(data)"
   ]
  },
  {
   "cell_type": "code",
   "execution_count": 21,
   "id": "bae7575d-f695-43ad-b543-467ed6aedc83",
   "metadata": {},
   "outputs": [],
   "source": [
    "import statistics"
   ]
  },
  {
   "cell_type": "code",
   "execution_count": 22,
   "id": "f3d6729d-2a31-4829-a549-6a09f3e93605",
   "metadata": {},
   "outputs": [
    {
     "data": {
      "text/plain": [
       "23"
      ]
     },
     "execution_count": 22,
     "metadata": {},
     "output_type": "execute_result"
    }
   ],
   "source": [
    "statistics.mode(data)"
   ]
  },
  {
   "cell_type": "code",
   "execution_count": 23,
   "id": "a5f60867-6dd2-4b49-9ea7-b80395123300",
   "metadata": {},
   "outputs": [],
   "source": [
    "def mean(data):\n",
    "    sum = 0\n",
    "    \n",
    "    for i in data:\n",
    "        sum = sum + i\n",
    "        \n",
    "    mean = sum/len(data)\n",
    "    \n",
    "    return mean"
   ]
  },
  {
   "cell_type": "code",
   "execution_count": 24,
   "id": "81525c40-343a-49b4-acd5-1f2ee6302a81",
   "metadata": {},
   "outputs": [
    {
     "data": {
      "text/plain": [
       "[23, 24, 33, 55, 22, 44, 5, 6, 25, 26, 27, 28, 29, 30, 31]"
      ]
     },
     "execution_count": 24,
     "metadata": {},
     "output_type": "execute_result"
    }
   ],
   "source": [
    "data"
   ]
  },
  {
   "cell_type": "code",
   "execution_count": 25,
   "id": "8d1e07b6-41e5-4047-bc29-6c5b10da0a50",
   "metadata": {},
   "outputs": [
    {
     "data": {
      "text/plain": [
       "27.2"
      ]
     },
     "execution_count": 25,
     "metadata": {},
     "output_type": "execute_result"
    }
   ],
   "source": [
    "mean(data)"
   ]
  },
  {
   "cell_type": "code",
   "execution_count": 26,
   "id": "6537a457-2f5b-4126-9704-85910f68fe96",
   "metadata": {},
   "outputs": [
    {
     "ename": "SyntaxError",
     "evalue": "cannot assign to subscript here. Maybe you meant '==' instead of '='? (2660679721.py, line 4)",
     "output_type": "error",
     "traceback": [
      "\u001b[0;36m  Cell \u001b[0;32mIn[26], line 4\u001b[0;36m\u001b[0m\n\u001b[0;31m    if data[i] = max :\u001b[0m\n\u001b[0m       ^\u001b[0m\n\u001b[0;31mSyntaxError\u001b[0m\u001b[0;31m:\u001b[0m cannot assign to subscript here. Maybe you meant '==' instead of '='?\n"
     ]
    }
   ],
   "source": [
    "def mode(data):\n",
    "    \n",
    "    for i in data:\n",
    "        if data[i] = max :\n",
    "            \n",
    "            mode = max(data[i])\n",
    "    \n",
    "    return mode"
   ]
  },
  {
   "cell_type": "code",
   "execution_count": 27,
   "id": "08d3315e-6863-4aa8-9f47-13752badf4f0",
   "metadata": {},
   "outputs": [
    {
     "ename": "NameError",
     "evalue": "name 'mode' is not defined",
     "output_type": "error",
     "traceback": [
      "\u001b[0;31m---------------------------------------------------------------------------\u001b[0m",
      "\u001b[0;31mNameError\u001b[0m                                 Traceback (most recent call last)",
      "Cell \u001b[0;32mIn[27], line 1\u001b[0m\n\u001b[0;32m----> 1\u001b[0m \u001b[43mmode\u001b[49m(data)\n",
      "\u001b[0;31mNameError\u001b[0m: name 'mode' is not defined"
     ]
    }
   ],
   "source": [
    "mode(data)"
   ]
  },
  {
   "cell_type": "code",
   "execution_count": 28,
   "id": "374e69f0-b79a-4128-89f6-f7b490993495",
   "metadata": {},
   "outputs": [
    {
     "name": "stderr",
     "output_type": "stream",
     "text": [
      "/tmp/ipykernel_102/3794622683.py:2: FutureWarning: Unlike other reduction functions (e.g. `skew`, `kurtosis`), the default behavior of `mode` typically preserves the axis it acts along. In SciPy 1.11.0, this behavior will change: the default value of `keepdims` will become False, the `axis` over which the statistic is taken will be eliminated, and the value None will no longer be accepted. Set `keepdims` to True or False to avoid this warning.\n",
      "  st.mode(data)\n"
     ]
    },
    {
     "data": {
      "text/plain": [
       "ModeResult(mode=array([5]), count=array([1]))"
      ]
     },
     "execution_count": 28,
     "metadata": {},
     "output_type": "execute_result"
    }
   ],
   "source": [
    "from scipy import stats as st\n",
    "st.mode(data)"
   ]
  },
  {
   "cell_type": "code",
   "execution_count": 29,
   "id": "c74acbc3-4937-45a2-9abc-39362dad3979",
   "metadata": {},
   "outputs": [
    {
     "data": {
      "text/plain": [
       "[5, 6, 22, 23, 24, 25, 26, 27, 28, 29, 30, 31, 33, 44, 55]"
      ]
     },
     "execution_count": 29,
     "metadata": {},
     "output_type": "execute_result"
    }
   ],
   "source": [
    "data_copy"
   ]
  },
  {
   "cell_type": "code",
   "execution_count": 30,
   "id": "2b9b48b0-add9-47ab-b0ba-3527162bf30a",
   "metadata": {},
   "outputs": [],
   "source": [
    "data_copy.append(150)"
   ]
  },
  {
   "cell_type": "code",
   "execution_count": 31,
   "id": "60509122-3da7-4da3-9402-cbea8d8a6c19",
   "metadata": {},
   "outputs": [
    {
     "data": {
      "text/plain": [
       "34.875"
      ]
     },
     "execution_count": 31,
     "metadata": {},
     "output_type": "execute_result"
    }
   ],
   "source": [
    "np.mean(data_copy)"
   ]
  },
  {
   "cell_type": "code",
   "execution_count": 32,
   "id": "fed634f0-1708-4582-bfbb-2bf39f51f73c",
   "metadata": {},
   "outputs": [
    {
     "data": {
      "text/plain": [
       "34.875"
      ]
     },
     "execution_count": 32,
     "metadata": {},
     "output_type": "execute_result"
    }
   ],
   "source": [
    "np.mean(data_copy)"
   ]
  },
  {
   "cell_type": "code",
   "execution_count": 33,
   "id": "bc6c8990-db30-4fe0-82d5-0f5fe83b67f5",
   "metadata": {},
   "outputs": [
    {
     "data": {
      "text/plain": [
       "141.22666666666666"
      ]
     },
     "execution_count": 33,
     "metadata": {},
     "output_type": "execute_result"
    }
   ],
   "source": [
    "np.var(data)"
   ]
  },
  {
   "cell_type": "code",
   "execution_count": 34,
   "id": "7596ff4d-1a2d-44d6-8386-922da6b57939",
   "metadata": {},
   "outputs": [],
   "source": [
    "data1 = data.sort()"
   ]
  },
  {
   "cell_type": "code",
   "execution_count": 35,
   "id": "97396a06-312b-4fef-8013-4612e8d258f3",
   "metadata": {},
   "outputs": [
    {
     "data": {
      "text/plain": [
       "[5, 6, 22, 23, 24, 25, 26, 27, 28, 29, 30, 31, 33, 44, 55, 150]"
      ]
     },
     "execution_count": 35,
     "metadata": {},
     "output_type": "execute_result"
    }
   ],
   "source": [
    "data_copy"
   ]
  },
  {
   "cell_type": "code",
   "execution_count": 36,
   "id": "2e49f68d-29a6-495b-89ce-af74b9212b7e",
   "metadata": {},
   "outputs": [
    {
     "data": {
      "text/plain": [
       "[5, 6, 22, 23, 24, 25, 26, 27, 28, 29, 30, 31, 33, 44, 55]"
      ]
     },
     "execution_count": 36,
     "metadata": {},
     "output_type": "execute_result"
    }
   ],
   "source": [
    "data"
   ]
  },
  {
   "cell_type": "code",
   "execution_count": 37,
   "id": "3b2b7f63-38a9-492d-969c-5954b3d347fe",
   "metadata": {},
   "outputs": [
    {
     "data": {
      "text/plain": [
       "150"
      ]
     },
     "execution_count": 37,
     "metadata": {},
     "output_type": "execute_result"
    }
   ],
   "source": [
    "data_copy.pop()"
   ]
  },
  {
   "cell_type": "code",
   "execution_count": 38,
   "id": "6977bc31-13fe-4f4c-a788-f5c8c441f5ab",
   "metadata": {},
   "outputs": [],
   "source": [
    "data_copy.append(150)"
   ]
  },
  {
   "cell_type": "code",
   "execution_count": 39,
   "id": "fa3e29c2-32c6-48ff-8490-7f8e0211de23",
   "metadata": {},
   "outputs": [
    {
     "data": {
      "text/plain": [
       "[5, 6, 22, 23, 24, 25, 26, 27, 28, 29, 30, 31, 33, 44, 55, 150]"
      ]
     },
     "execution_count": 39,
     "metadata": {},
     "output_type": "execute_result"
    }
   ],
   "source": [
    "data_copy"
   ]
  },
  {
   "cell_type": "code",
   "execution_count": 40,
   "id": "a70bb055-4959-410d-bdda-7b58df3a22c3",
   "metadata": {},
   "outputs": [
    {
     "data": {
      "text/plain": [
       "34.875"
      ]
     },
     "execution_count": 40,
     "metadata": {},
     "output_type": "execute_result"
    }
   ],
   "source": [
    "np.mean(data_copy)"
   ]
  },
  {
   "cell_type": "code",
   "execution_count": 41,
   "id": "63fa5c37-a72b-4d9e-b8db-9755586ce681",
   "metadata": {},
   "outputs": [
    {
     "data": {
      "text/plain": [
       "27.2"
      ]
     },
     "execution_count": 41,
     "metadata": {},
     "output_type": "execute_result"
    }
   ],
   "source": [
    "np.mean(data)"
   ]
  },
  {
   "cell_type": "code",
   "execution_count": 42,
   "id": "7418021b-038c-4ac5-b7f7-ad248aff9194",
   "metadata": {},
   "outputs": [
    {
     "data": {
      "text/plain": [
       "array([23.75])"
      ]
     },
     "execution_count": 42,
     "metadata": {},
     "output_type": "execute_result"
    }
   ],
   "source": [
    "np.percentile(data_copy,[25])"
   ]
  },
  {
   "cell_type": "code",
   "execution_count": 43,
   "id": "49fdbb65-4f92-4a12-8598-dca545f3181d",
   "metadata": {},
   "outputs": [
    {
     "data": {
      "text/plain": [
       "array([23.75, 27.5 , 31.5 ])"
      ]
     },
     "execution_count": 43,
     "metadata": {},
     "output_type": "execute_result"
    }
   ],
   "source": [
    "np.percentile(data_copy, [25,50,75])"
   ]
  },
  {
   "cell_type": "code",
   "execution_count": 44,
   "id": "b09de4d4-1f6f-42e0-b4ad-32e8f0acb36a",
   "metadata": {},
   "outputs": [
    {
     "data": {
      "text/plain": [
       "array([27.])"
      ]
     },
     "execution_count": 44,
     "metadata": {},
     "output_type": "execute_result"
    }
   ],
   "source": [
    "np.percentile(data,[50])"
   ]
  },
  {
   "cell_type": "code",
   "execution_count": 45,
   "id": "992c4457-49cd-402b-ad51-db88cba7a6fe",
   "metadata": {},
   "outputs": [
    {
     "data": {
      "text/plain": [
       "[5, 6, 22, 23, 24, 25, 26, 27, 28, 29, 30, 31, 33, 44, 55]"
      ]
     },
     "execution_count": 45,
     "metadata": {},
     "output_type": "execute_result"
    }
   ],
   "source": [
    "data"
   ]
  },
  {
   "cell_type": "code",
   "execution_count": 46,
   "id": "47cc2f48-92a1-4771-a9fa-dd44e485863b",
   "metadata": {},
   "outputs": [
    {
     "data": {
      "text/plain": [
       "array([23.5])"
      ]
     },
     "execution_count": 46,
     "metadata": {},
     "output_type": "execute_result"
    }
   ],
   "source": [
    "np.percentile(data,[25])"
   ]
  },
  {
   "cell_type": "code",
   "execution_count": 47,
   "id": "49bb0421-06f8-4e0c-9d14-7ebf2a471063",
   "metadata": {},
   "outputs": [
    {
     "data": {
      "text/plain": [
       "array([28.4])"
      ]
     },
     "execution_count": 47,
     "metadata": {},
     "output_type": "execute_result"
    }
   ],
   "source": [
    "np.percentile(data,[60])"
   ]
  },
  {
   "cell_type": "code",
   "execution_count": 48,
   "id": "82b94d90-0372-4b63-b9b8-964aea875d67",
   "metadata": {},
   "outputs": [
    {
     "data": {
      "text/plain": [
       "array([23.5, 27. , 30.5, 55. ])"
      ]
     },
     "execution_count": 48,
     "metadata": {},
     "output_type": "execute_result"
    }
   ],
   "source": [
    "np.percentile(data, [25,50,75,100])"
   ]
  },
  {
   "cell_type": "code",
   "execution_count": 49,
   "id": "69787bb4-298c-4df4-9976-10b96737ee78",
   "metadata": {},
   "outputs": [
    {
     "ename": "NameError",
     "evalue": "name 'q1' is not defined",
     "output_type": "error",
     "traceback": [
      "\u001b[0;31m---------------------------------------------------------------------------\u001b[0m",
      "\u001b[0;31mNameError\u001b[0m                                 Traceback (most recent call last)",
      "Cell \u001b[0;32mIn[49], line 1\u001b[0m\n\u001b[0;32m----> 1\u001b[0m \u001b[43mq1\u001b[49m,q2,q3,q4\n\u001b[1;32m      3\u001b[0m IQR \u001b[38;5;241m=\u001b[39m q3\u001b[38;5;241m-\u001b[39mq1\n",
      "\u001b[0;31mNameError\u001b[0m: name 'q1' is not defined"
     ]
    }
   ],
   "source": [
    "q1,q2,q3,q4\n",
    "\n",
    "IQR = q3-q1"
   ]
  },
  {
   "cell_type": "code",
   "execution_count": 50,
   "id": "04250a3f-cd0b-4cab-9a9b-cf2817078cb6",
   "metadata": {},
   "outputs": [],
   "source": [
    "data_copy.append(150)"
   ]
  },
  {
   "cell_type": "code",
   "execution_count": 51,
   "id": "53e03c25-36eb-4ffb-8216-541d321a8d7f",
   "metadata": {},
   "outputs": [
    {
     "data": {
      "text/plain": [
       "150"
      ]
     },
     "execution_count": 51,
     "metadata": {},
     "output_type": "execute_result"
    }
   ],
   "source": [
    "data_copy.pop()"
   ]
  },
  {
   "cell_type": "code",
   "execution_count": 52,
   "id": "6c46ea9e-39cf-4f4b-ba3e-8bd8eac3a757",
   "metadata": {},
   "outputs": [
    {
     "data": {
      "text/plain": [
       "[5, 6, 22, 23, 24, 25, 26, 27, 28, 29, 30, 31, 33, 44, 55, 150]"
      ]
     },
     "execution_count": 52,
     "metadata": {},
     "output_type": "execute_result"
    }
   ],
   "source": [
    "data_copy"
   ]
  },
  {
   "cell_type": "code",
   "execution_count": 53,
   "id": "c7da6c61-3eee-4cec-b6bb-d12201a1b514",
   "metadata": {},
   "outputs": [],
   "source": [
    "import seaborn as sns"
   ]
  },
  {
   "cell_type": "code",
   "execution_count": 54,
   "id": "e5a7b0a9-37a8-480b-ac33-0306d5bf1d8f",
   "metadata": {},
   "outputs": [
    {
     "data": {
      "text/plain": [
       "[5, 6, 22, 23, 24, 25, 26, 27, 28, 29, 30, 31, 33, 44, 55, 150]"
      ]
     },
     "execution_count": 54,
     "metadata": {},
     "output_type": "execute_result"
    }
   ],
   "source": [
    "data_copy"
   ]
  },
  {
   "cell_type": "code",
   "execution_count": 55,
   "id": "2bf5b773-4453-4228-860a-bcc8a6744d50",
   "metadata": {},
   "outputs": [
    {
     "data": {
      "text/plain": [
       "<AxesSubplot: >"
      ]
     },
     "execution_count": 55,
     "metadata": {},
     "output_type": "execute_result"
    },
    {
     "data": {
      "image/png": "[encoded data removed]",
      "text/plain": [
       "<Figure size 640x480 with 1 Axes>"
      ]
     },
     "metadata": {},
     "output_type": "display_data"
    }
   ],
   "source": [
    "sns.boxplot(data_copy)"
   ]
  },
  {
   "cell_type": "code",
   "execution_count": 56,
   "id": "7987441e-8b4e-4cac-8cc2-ed7b6bba5b20",
   "metadata": {},
   "outputs": [
    {
     "ename": "NameError",
     "evalue": "name 'q1' is not defined",
     "output_type": "error",
     "traceback": [
      "\u001b[0;31m---------------------------------------------------------------------------\u001b[0m",
      "\u001b[0;31mNameError\u001b[0m                                 Traceback (most recent call last)",
      "Cell \u001b[0;32mIn[56], line 1\u001b[0m\n\u001b[0;32m----> 1\u001b[0m lower_fence \u001b[38;5;241m=\u001b[39m \u001b[43mq1\u001b[49m\u001b[38;5;241m-\u001b[39m\u001b[38;5;241m1.5\u001b[39m\u001b[38;5;241m*\u001b[39miqr\n\u001b[1;32m      2\u001b[0m upper_fence \u001b[38;5;241m=\u001b[39m q2\u001b[38;5;241m+\u001b[39m\u001b[38;5;241m1.5\u001b[39m\u001b[38;5;241m*\u001b[39miqr\n",
      "\u001b[0;31mNameError\u001b[0m: name 'q1' is not defined"
     ]
    }
   ],
   "source": [
    "lower_fence = q1-1.5*iqr\n",
    "upper_fence = q2+1.5*iqr"
   ]
  },
  {
   "cell_type": "code",
   "execution_count": 57,
   "id": "f0ea1a8f-49da-4d65-9f73-ed1230e3d5c4",
   "metadata": {},
   "outputs": [
    {
     "data": {
      "text/plain": [
       "141.22666666666666"
      ]
     },
     "execution_count": 57,
     "metadata": {},
     "output_type": "execute_result"
    }
   ],
   "source": [
    "np.var(data)"
   ]
  },
  {
   "cell_type": "code",
   "execution_count": 58,
   "id": "ec2341ce-0e45-4336-9f55-372dbb7cffc0",
   "metadata": {},
   "outputs": [
    {
     "data": {
      "text/plain": [
       "11.883882642750502"
      ]
     },
     "execution_count": 58,
     "metadata": {},
     "output_type": "execute_result"
    }
   ],
   "source": [
    "np.std(data)"
   ]
  },
  {
   "cell_type": "code",
   "execution_count": 59,
   "id": "4654cece-2de9-48fe-8bb7-a3eeafdd6b2c",
   "metadata": {},
   "outputs": [
    {
     "data": {
      "text/plain": [
       "[5, 6, 22, 23, 24, 25, 26, 27, 28, 29, 30, 31, 33, 44, 55]"
      ]
     },
     "execution_count": 59,
     "metadata": {},
     "output_type": "execute_result"
    }
   ],
   "source": [
    "data"
   ]
  },
  {
   "cell_type": "code",
   "execution_count": 60,
   "id": "0d81351e-cc7a-4fe1-9d4c-3f91da1a45d8",
   "metadata": {},
   "outputs": [
    {
     "data": {
      "text/plain": [
       "55"
      ]
     },
     "execution_count": 60,
     "metadata": {},
     "output_type": "execute_result"
    }
   ],
   "source": [
    "np.random.choice(data)"
   ]
  },
  {
   "cell_type": "code",
   "execution_count": 61,
   "id": "d3ac53eb-e44d-400b-ab9f-e2de35d8698b",
   "metadata": {},
   "outputs": [
    {
     "data": {
      "text/plain": [
       "27"
      ]
     },
     "execution_count": 61,
     "metadata": {},
     "output_type": "execute_result"
    }
   ],
   "source": [
    "np.random.choice(data)"
   ]
  },
  {
   "cell_type": "code",
   "execution_count": 62,
   "id": "1a4478e9-4bd1-47ff-93e7-4652fe382454",
   "metadata": {},
   "outputs": [
    {
     "data": {
      "text/plain": [
       "array([24,  5, 25])"
      ]
     },
     "execution_count": 62,
     "metadata": {},
     "output_type": "execute_result"
    }
   ],
   "source": [
    "np.random.choice(data,size = 3)"
   ]
  },
  {
   "cell_type": "code",
   "execution_count": 63,
   "id": "ba17e3f3-a109-4ca8-860a-226d5e89195e",
   "metadata": {},
   "outputs": [
    {
     "data": {
      "text/html": [
       "<div>\n",
       "<style scoped>\n",
       "    .dataframe tbody tr th:only-of-type {\n",
       "        vertical-align: middle;\n",
       "    }\n",
       "\n",
       "    .dataframe tbody tr th {\n",
       "        vertical-align: top;\n",
       "    }\n",
       "\n",
       "    .dataframe thead th {\n",
       "        text-align: right;\n",
       "    }\n",
       "</style>\n",
       "<table border=\"1\" class=\"dataframe\">\n",
       "  <thead>\n",
       "    <tr style=\"text-align: right;\">\n",
       "      <th></th>\n",
       "      <th>Id</th>\n",
       "      <th>SepalLengthCm</th>\n",
       "      <th>SepalWidthCm</th>\n",
       "      <th>PetalLengthCm</th>\n",
       "      <th>PetalWidthCm</th>\n",
       "      <th>Species</th>\n",
       "    </tr>\n",
       "  </thead>\n",
       "  <tbody>\n",
       "    <tr>\n",
       "      <th>0</th>\n",
       "      <td>1</td>\n",
       "      <td>5.1</td>\n",
       "      <td>3.5</td>\n",
       "      <td>1.4</td>\n",
       "      <td>0.2</td>\n",
       "      <td>Iris-setosa</td>\n",
       "    </tr>\n",
       "    <tr>\n",
       "      <th>1</th>\n",
       "      <td>2</td>\n",
       "      <td>4.9</td>\n",
       "      <td>3.0</td>\n",
       "      <td>1.4</td>\n",
       "      <td>0.2</td>\n",
       "      <td>Iris-setosa</td>\n",
       "    </tr>\n",
       "    <tr>\n",
       "      <th>2</th>\n",
       "      <td>3</td>\n",
       "      <td>4.7</td>\n",
       "      <td>3.2</td>\n",
       "      <td>1.3</td>\n",
       "      <td>0.2</td>\n",
       "      <td>Iris-setosa</td>\n",
       "    </tr>\n",
       "    <tr>\n",
       "      <th>3</th>\n",
       "      <td>4</td>\n",
       "      <td>4.6</td>\n",
       "      <td>3.1</td>\n",
       "      <td>1.5</td>\n",
       "      <td>0.2</td>\n",
       "      <td>Iris-setosa</td>\n",
       "    </tr>\n",
       "    <tr>\n",
       "      <th>4</th>\n",
       "      <td>5</td>\n",
       "      <td>5.0</td>\n",
       "      <td>3.6</td>\n",
       "      <td>1.4</td>\n",
       "      <td>0.2</td>\n",
       "      <td>Iris-setosa</td>\n",
       "    </tr>\n",
       "  </tbody>\n",
       "</table>\n",
       "</div>"
      ],
      "text/plain": [
       "   Id  SepalLengthCm  SepalWidthCm  PetalLengthCm  PetalWidthCm      Species\n",
       "0   1            5.1           3.5            1.4           0.2  Iris-setosa\n",
       "1   2            4.9           3.0            1.4           0.2  Iris-setosa\n",
       "2   3            4.7           3.2            1.3           0.2  Iris-setosa\n",
       "3   4            4.6           3.1            1.5           0.2  Iris-setosa\n",
       "4   5            5.0           3.6            1.4           0.2  Iris-setosa"
      ]
     },
     "execution_count": 63,
     "metadata": {},
     "output_type": "execute_result"
    }
   ],
   "source": [
    "data2.head()"
   ]
  },
  {
   "cell_type": "code",
   "execution_count": 64,
   "id": "a6aa2f88-fd03-4f1c-b0a5-b85baa172dcb",
   "metadata": {},
   "outputs": [
    {
     "data": {
      "text/html": [
       "<div>\n",
       "<style scoped>\n",
       "    .dataframe tbody tr th:only-of-type {\n",
       "        vertical-align: middle;\n",
       "    }\n",
       "\n",
       "    .dataframe tbody tr th {\n",
       "        vertical-align: top;\n",
       "    }\n",
       "\n",
       "    .dataframe thead th {\n",
       "        text-align: right;\n",
       "    }\n",
       "</style>\n",
       "<table border=\"1\" class=\"dataframe\">\n",
       "  <thead>\n",
       "    <tr style=\"text-align: right;\">\n",
       "      <th></th>\n",
       "      <th>Id</th>\n",
       "      <th>SepalLengthCm</th>\n",
       "      <th>SepalWidthCm</th>\n",
       "      <th>PetalLengthCm</th>\n",
       "      <th>PetalWidthCm</th>\n",
       "      <th>Species</th>\n",
       "    </tr>\n",
       "  </thead>\n",
       "  <tbody>\n",
       "    <tr>\n",
       "      <th>20</th>\n",
       "      <td>21</td>\n",
       "      <td>5.4</td>\n",
       "      <td>3.4</td>\n",
       "      <td>1.7</td>\n",
       "      <td>0.2</td>\n",
       "      <td>Iris-setosa</td>\n",
       "    </tr>\n",
       "  </tbody>\n",
       "</table>\n",
       "</div>"
      ],
      "text/plain": [
       "    Id  SepalLengthCm  SepalWidthCm  PetalLengthCm  PetalWidthCm      Species\n",
       "20  21            5.4           3.4            1.7           0.2  Iris-setosa"
      ]
     },
     "execution_count": 64,
     "metadata": {},
     "output_type": "execute_result"
    }
   ],
   "source": [
    "data2. sample()"
   ]
  },
  {
   "cell_type": "code",
   "execution_count": 65,
   "id": "b5ac8e9e-a8c2-45b1-8032-b85730124f32",
   "metadata": {},
   "outputs": [
    {
     "data": {
      "text/html": [
       "<div>\n",
       "<style scoped>\n",
       "    .dataframe tbody tr th:only-of-type {\n",
       "        vertical-align: middle;\n",
       "    }\n",
       "\n",
       "    .dataframe tbody tr th {\n",
       "        vertical-align: top;\n",
       "    }\n",
       "\n",
       "    .dataframe thead th {\n",
       "        text-align: right;\n",
       "    }\n",
       "</style>\n",
       "<table border=\"1\" class=\"dataframe\">\n",
       "  <thead>\n",
       "    <tr style=\"text-align: right;\">\n",
       "      <th></th>\n",
       "      <th>Id</th>\n",
       "      <th>SepalLengthCm</th>\n",
       "      <th>SepalWidthCm</th>\n",
       "      <th>PetalLengthCm</th>\n",
       "      <th>PetalWidthCm</th>\n",
       "      <th>Species</th>\n",
       "    </tr>\n",
       "  </thead>\n",
       "  <tbody>\n",
       "    <tr>\n",
       "      <th>121</th>\n",
       "      <td>122</td>\n",
       "      <td>5.6</td>\n",
       "      <td>2.8</td>\n",
       "      <td>4.9</td>\n",
       "      <td>2.0</td>\n",
       "      <td>Iris-virginica</td>\n",
       "    </tr>\n",
       "  </tbody>\n",
       "</table>\n",
       "</div>"
      ],
      "text/plain": [
       "      Id  SepalLengthCm  SepalWidthCm  PetalLengthCm  PetalWidthCm  \\\n",
       "121  122            5.6           2.8            4.9           2.0   \n",
       "\n",
       "            Species  \n",
       "121  Iris-virginica  "
      ]
     },
     "execution_count": 65,
     "metadata": {},
     "output_type": "execute_result"
    }
   ],
   "source": [
    "data2.sample()"
   ]
  },
  {
   "cell_type": "code",
   "execution_count": 66,
   "id": "1230ff9c-3b2e-4ca1-acb0-3c8b018b1ec0",
   "metadata": {},
   "outputs": [
    {
     "data": {
      "text/html": [
       "<div>\n",
       "<style scoped>\n",
       "    .dataframe tbody tr th:only-of-type {\n",
       "        vertical-align: middle;\n",
       "    }\n",
       "\n",
       "    .dataframe tbody tr th {\n",
       "        vertical-align: top;\n",
       "    }\n",
       "\n",
       "    .dataframe thead th {\n",
       "        text-align: right;\n",
       "    }\n",
       "</style>\n",
       "<table border=\"1\" class=\"dataframe\">\n",
       "  <thead>\n",
       "    <tr style=\"text-align: right;\">\n",
       "      <th></th>\n",
       "      <th>Id</th>\n",
       "      <th>SepalLengthCm</th>\n",
       "      <th>SepalWidthCm</th>\n",
       "      <th>PetalLengthCm</th>\n",
       "      <th>PetalWidthCm</th>\n",
       "      <th>Species</th>\n",
       "    </tr>\n",
       "  </thead>\n",
       "  <tbody>\n",
       "    <tr>\n",
       "      <th>148</th>\n",
       "      <td>149</td>\n",
       "      <td>6.2</td>\n",
       "      <td>3.4</td>\n",
       "      <td>5.4</td>\n",
       "      <td>2.3</td>\n",
       "      <td>Iris-virginica</td>\n",
       "    </tr>\n",
       "    <tr>\n",
       "      <th>144</th>\n",
       "      <td>145</td>\n",
       "      <td>6.7</td>\n",
       "      <td>3.3</td>\n",
       "      <td>5.7</td>\n",
       "      <td>2.5</td>\n",
       "      <td>Iris-virginica</td>\n",
       "    </tr>\n",
       "    <tr>\n",
       "      <th>118</th>\n",
       "      <td>119</td>\n",
       "      <td>7.7</td>\n",
       "      <td>2.6</td>\n",
       "      <td>6.9</td>\n",
       "      <td>2.3</td>\n",
       "      <td>Iris-virginica</td>\n",
       "    </tr>\n",
       "    <tr>\n",
       "      <th>113</th>\n",
       "      <td>114</td>\n",
       "      <td>5.7</td>\n",
       "      <td>2.5</td>\n",
       "      <td>5.0</td>\n",
       "      <td>2.0</td>\n",
       "      <td>Iris-virginica</td>\n",
       "    </tr>\n",
       "    <tr>\n",
       "      <th>61</th>\n",
       "      <td>62</td>\n",
       "      <td>5.9</td>\n",
       "      <td>3.0</td>\n",
       "      <td>4.2</td>\n",
       "      <td>1.5</td>\n",
       "      <td>Iris-versicolor</td>\n",
       "    </tr>\n",
       "    <tr>\n",
       "      <th>111</th>\n",
       "      <td>112</td>\n",
       "      <td>6.4</td>\n",
       "      <td>2.7</td>\n",
       "      <td>5.3</td>\n",
       "      <td>1.9</td>\n",
       "      <td>Iris-virginica</td>\n",
       "    </tr>\n",
       "    <tr>\n",
       "      <th>34</th>\n",
       "      <td>35</td>\n",
       "      <td>4.9</td>\n",
       "      <td>3.1</td>\n",
       "      <td>1.5</td>\n",
       "      <td>0.1</td>\n",
       "      <td>Iris-setosa</td>\n",
       "    </tr>\n",
       "    <tr>\n",
       "      <th>30</th>\n",
       "      <td>31</td>\n",
       "      <td>4.8</td>\n",
       "      <td>3.1</td>\n",
       "      <td>1.6</td>\n",
       "      <td>0.2</td>\n",
       "      <td>Iris-setosa</td>\n",
       "    </tr>\n",
       "    <tr>\n",
       "      <th>58</th>\n",
       "      <td>59</td>\n",
       "      <td>6.6</td>\n",
       "      <td>2.9</td>\n",
       "      <td>4.6</td>\n",
       "      <td>1.3</td>\n",
       "      <td>Iris-versicolor</td>\n",
       "    </tr>\n",
       "    <tr>\n",
       "      <th>81</th>\n",
       "      <td>82</td>\n",
       "      <td>5.5</td>\n",
       "      <td>2.4</td>\n",
       "      <td>3.7</td>\n",
       "      <td>1.0</td>\n",
       "      <td>Iris-versicolor</td>\n",
       "    </tr>\n",
       "    <tr>\n",
       "      <th>5</th>\n",
       "      <td>6</td>\n",
       "      <td>5.4</td>\n",
       "      <td>3.9</td>\n",
       "      <td>1.7</td>\n",
       "      <td>0.4</td>\n",
       "      <td>Iris-setosa</td>\n",
       "    </tr>\n",
       "    <tr>\n",
       "      <th>131</th>\n",
       "      <td>132</td>\n",
       "      <td>7.9</td>\n",
       "      <td>3.8</td>\n",
       "      <td>6.4</td>\n",
       "      <td>2.0</td>\n",
       "      <td>Iris-virginica</td>\n",
       "    </tr>\n",
       "    <tr>\n",
       "      <th>56</th>\n",
       "      <td>57</td>\n",
       "      <td>6.3</td>\n",
       "      <td>3.3</td>\n",
       "      <td>4.7</td>\n",
       "      <td>1.6</td>\n",
       "      <td>Iris-versicolor</td>\n",
       "    </tr>\n",
       "    <tr>\n",
       "      <th>67</th>\n",
       "      <td>68</td>\n",
       "      <td>5.8</td>\n",
       "      <td>2.7</td>\n",
       "      <td>4.1</td>\n",
       "      <td>1.0</td>\n",
       "      <td>Iris-versicolor</td>\n",
       "    </tr>\n",
       "    <tr>\n",
       "      <th>3</th>\n",
       "      <td>4</td>\n",
       "      <td>4.6</td>\n",
       "      <td>3.1</td>\n",
       "      <td>1.5</td>\n",
       "      <td>0.2</td>\n",
       "      <td>Iris-setosa</td>\n",
       "    </tr>\n",
       "  </tbody>\n",
       "</table>\n",
       "</div>"
      ],
      "text/plain": [
       "      Id  SepalLengthCm  SepalWidthCm  PetalLengthCm  PetalWidthCm  \\\n",
       "148  149            6.2           3.4            5.4           2.3   \n",
       "144  145            6.7           3.3            5.7           2.5   \n",
       "118  119            7.7           2.6            6.9           2.3   \n",
       "113  114            5.7           2.5            5.0           2.0   \n",
       "61    62            5.9           3.0            4.2           1.5   \n",
       "111  112            6.4           2.7            5.3           1.9   \n",
       "34    35            4.9           3.1            1.5           0.1   \n",
       "30    31            4.8           3.1            1.6           0.2   \n",
       "58    59            6.6           2.9            4.6           1.3   \n",
       "81    82            5.5           2.4            3.7           1.0   \n",
       "5      6            5.4           3.9            1.7           0.4   \n",
       "131  132            7.9           3.8            6.4           2.0   \n",
       "56    57            6.3           3.3            4.7           1.6   \n",
       "67    68            5.8           2.7            4.1           1.0   \n",
       "3      4            4.6           3.1            1.5           0.2   \n",
       "\n",
       "             Species  \n",
       "148   Iris-virginica  \n",
       "144   Iris-virginica  \n",
       "118   Iris-virginica  \n",
       "113   Iris-virginica  \n",
       "61   Iris-versicolor  \n",
       "111   Iris-virginica  \n",
       "34       Iris-setosa  \n",
       "30       Iris-setosa  \n",
       "58   Iris-versicolor  \n",
       "81   Iris-versicolor  \n",
       "5        Iris-setosa  \n",
       "131   Iris-virginica  \n",
       "56   Iris-versicolor  \n",
       "67   Iris-versicolor  \n",
       "3        Iris-setosa  "
      ]
     },
     "execution_count": 66,
     "metadata": {},
     "output_type": "execute_result"
    }
   ],
   "source": [
    "data2.sample(15)"
   ]
  },
  {
   "cell_type": "code",
   "execution_count": 67,
   "id": "210dd0a0-b425-4f57-af0c-9f91593fdfc3",
   "metadata": {},
   "outputs": [
    {
     "data": {
      "text/plain": [
       "141.22666666666666"
      ]
     },
     "execution_count": 67,
     "metadata": {},
     "output_type": "execute_result"
    }
   ],
   "source": [
    "np.var(data)"
   ]
  },
  {
   "cell_type": "code",
   "execution_count": 68,
   "id": "d188e789-d762-4305-b074-98ad208f2e7f",
   "metadata": {},
   "outputs": [],
   "source": [
    "def var(data):\n",
    "    for i in data:\n",
    "        n = len(data)\n",
    "        mean = sum(data)/n\n",
    "        dev = (i - mean)**2\n",
    "        var = sum(dev)/(n)\n",
    "        \n",
    "    return var"
   ]
  },
  {
   "cell_type": "code",
   "execution_count": 69,
   "id": "bc76ea5e-1dc0-473d-9cbb-563d7e822e88",
   "metadata": {},
   "outputs": [
    {
     "data": {
      "text/plain": [
       "[5, 6, 22, 23, 24, 25, 26, 27, 28, 29, 30, 31, 33, 44, 55]"
      ]
     },
     "execution_count": 69,
     "metadata": {},
     "output_type": "execute_result"
    }
   ],
   "source": [
    "data"
   ]
  },
  {
   "cell_type": "code",
   "execution_count": 70,
   "id": "94b1e839-ab1e-423e-b546-eb12fe043e76",
   "metadata": {},
   "outputs": [
    {
     "ename": "TypeError",
     "evalue": "'float' object is not iterable",
     "output_type": "error",
     "traceback": [
      "\u001b[0;31m---------------------------------------------------------------------------\u001b[0m",
      "\u001b[0;31mTypeError\u001b[0m                                 Traceback (most recent call last)",
      "Cell \u001b[0;32mIn[70], line 1\u001b[0m\n\u001b[0;32m----> 1\u001b[0m \u001b[43mvar\u001b[49m\u001b[43m(\u001b[49m\u001b[43mdata\u001b[49m\u001b[43m)\u001b[49m\n",
      "Cell \u001b[0;32mIn[68], line 6\u001b[0m, in \u001b[0;36mvar\u001b[0;34m(data)\u001b[0m\n\u001b[1;32m      4\u001b[0m     mean \u001b[38;5;241m=\u001b[39m \u001b[38;5;28msum\u001b[39m(data)\u001b[38;5;241m/\u001b[39mn\n\u001b[1;32m      5\u001b[0m     dev \u001b[38;5;241m=\u001b[39m (i \u001b[38;5;241m-\u001b[39m mean)\u001b[38;5;241m*\u001b[39m\u001b[38;5;241m*\u001b[39m\u001b[38;5;241m2\u001b[39m\n\u001b[0;32m----> 6\u001b[0m     var \u001b[38;5;241m=\u001b[39m \u001b[38;5;28;43msum\u001b[39;49m\u001b[43m(\u001b[49m\u001b[43mdev\u001b[49m\u001b[43m)\u001b[49m\u001b[38;5;241m/\u001b[39m(n)\n\u001b[1;32m      8\u001b[0m \u001b[38;5;28;01mreturn\u001b[39;00m var\n",
      "\u001b[0;31mTypeError\u001b[0m: 'float' object is not iterable"
     ]
    }
   ],
   "source": [
    "var(data)"
   ]
  },
  {
   "cell_type": "code",
   "execution_count": 71,
   "id": "e8963e3e-7ce0-4c8e-bbc6-610438c769c3",
   "metadata": {},
   "outputs": [
    {
     "data": {
      "text/plain": [
       "27.2"
      ]
     },
     "execution_count": 71,
     "metadata": {},
     "output_type": "execute_result"
    }
   ],
   "source": [
    "np.mean(data)"
   ]
  },
  {
   "cell_type": "code",
   "execution_count": 75,
   "id": "fe707575-7b6c-4550-b3cf-f6ec24b5d390",
   "metadata": {},
   "outputs": [],
   "source": [
    "datatest.sort()"
   ]
  },
  {
   "cell_type": "code",
   "execution_count": 76,
   "id": "931d5833-a0a2-45db-8184-4ad38298adfa",
   "metadata": {},
   "outputs": [],
   "source": [
    "datatest = [23, 24, 32, 45, 12, 43, 67, 45, 32, 56, 32]"
   ]
  },
  {
   "cell_type": "code",
   "execution_count": 77,
   "id": "66594b28-7bc0-453c-82e1-763d4656ded7",
   "metadata": {},
   "outputs": [
    {
     "ename": "TypeError",
     "evalue": "'float' object is not iterable",
     "output_type": "error",
     "traceback": [
      "\u001b[0;31m---------------------------------------------------------------------------\u001b[0m",
      "\u001b[0;31mTypeError\u001b[0m                                 Traceback (most recent call last)",
      "Cell \u001b[0;32mIn[77], line 1\u001b[0m\n\u001b[0;32m----> 1\u001b[0m \u001b[43mvar\u001b[49m\u001b[43m(\u001b[49m\u001b[43mdatatest\u001b[49m\u001b[43m)\u001b[49m\n",
      "Cell \u001b[0;32mIn[68], line 6\u001b[0m, in \u001b[0;36mvar\u001b[0;34m(data)\u001b[0m\n\u001b[1;32m      4\u001b[0m     mean \u001b[38;5;241m=\u001b[39m \u001b[38;5;28msum\u001b[39m(data)\u001b[38;5;241m/\u001b[39mn\n\u001b[1;32m      5\u001b[0m     dev \u001b[38;5;241m=\u001b[39m (i \u001b[38;5;241m-\u001b[39m mean)\u001b[38;5;241m*\u001b[39m\u001b[38;5;241m*\u001b[39m\u001b[38;5;241m2\u001b[39m\n\u001b[0;32m----> 6\u001b[0m     var \u001b[38;5;241m=\u001b[39m \u001b[38;5;28;43msum\u001b[39;49m\u001b[43m(\u001b[49m\u001b[43mdev\u001b[49m\u001b[43m)\u001b[49m\u001b[38;5;241m/\u001b[39m(n)\n\u001b[1;32m      8\u001b[0m \u001b[38;5;28;01mreturn\u001b[39;00m var\n",
      "\u001b[0;31mTypeError\u001b[0m: 'float' object is not iterable"
     ]
    }
   ],
   "source": [
    "var(datatest)"
   ]
  },
  {
   "cell_type": "code",
   "execution_count": 78,
   "id": "08ccd914-5fcb-4d1d-aef2-cb983932195e",
   "metadata": {},
   "outputs": [
    {
     "data": {
      "text/plain": [
       "[23, 24, 32, 45, 12, 43, 67, 45, 32, 56, 32]"
      ]
     },
     "execution_count": 78,
     "metadata": {},
     "output_type": "execute_result"
    }
   ],
   "source": [
    "datatest"
   ]
  },
  {
   "cell_type": "code",
   "execution_count": 79,
   "id": "4a1ad985-3a4a-4aa9-a053-22fa57e24404",
   "metadata": {},
   "outputs": [],
   "source": [
    "def variance(data):\n",
    "    n=len(data)\n",
    "    ## mean of the data\n",
    "    mean=sum(data)/n\n",
    "    ## variance\n",
    "    deviation=[(x - mean) ** 2 for x in data]\n",
    "    variance=sum(deviation)/(n)\n",
    "    return variance"
   ]
  },
  {
   "cell_type": "code",
   "execution_count": 80,
   "id": "cdfa213e-9f03-4f18-8241-85217eceae0a",
   "metadata": {},
   "outputs": [
    {
     "data": {
      "text/plain": [
       "226.23140495867773"
      ]
     },
     "execution_count": 80,
     "metadata": {},
     "output_type": "execute_result"
    }
   ],
   "source": [
    "variance(datatest)"
   ]
  },
  {
   "cell_type": "code",
   "execution_count": 81,
   "id": "d45967b7-b384-461c-8457-85a34f9f3d66",
   "metadata": {},
   "outputs": [
    {
     "data": {
      "text/plain": [
       "141.22666666666666"
      ]
     },
     "execution_count": 81,
     "metadata": {},
     "output_type": "execute_result"
    }
   ],
   "source": [
    "variance(data)"
   ]
  },
  {
   "cell_type": "code",
   "execution_count": 82,
   "id": "c30231ac-8328-43ea-bbff-8161ab305adc",
   "metadata": {},
   "outputs": [],
   "source": [
    "import statistics\n"
   ]
  },
  {
   "cell_type": "code",
   "execution_count": 83,
   "id": "d81aadcf-ce61-49fd-8d80-36444a2abc56",
   "metadata": {},
   "outputs": [
    {
     "data": {
      "text/plain": [
       "151.31428571428572"
      ]
     },
     "execution_count": 83,
     "metadata": {},
     "output_type": "execute_result"
    }
   ],
   "source": [
    "statistics.variance(data)"
   ]
  },
  {
   "cell_type": "code",
   "execution_count": 84,
   "id": "0dfed63d-5b37-4b51-8a5f-d12d25413eca",
   "metadata": {},
   "outputs": [
    {
     "data": {
      "text/plain": [
       "151.31428571428572"
      ]
     },
     "execution_count": 84,
     "metadata": {},
     "output_type": "execute_result"
    }
   ],
   "source": [
    "statistics.variance(data)"
   ]
  },
  {
   "cell_type": "code",
   "execution_count": 85,
   "id": "fbc68366-004c-40ec-a216-fc785c2d4c0a",
   "metadata": {},
   "outputs": [
    {
     "data": {
      "text/plain": [
       "151.31428571428572"
      ]
     },
     "execution_count": 85,
     "metadata": {},
     "output_type": "execute_result"
    }
   ],
   "source": [
    "statistics.variance(data)"
   ]
  },
  {
   "cell_type": "code",
   "execution_count": 86,
   "id": "16f0e07b-6dae-4b54-b0e8-4856e0e199d2",
   "metadata": {},
   "outputs": [
    {
     "data": {
      "text/plain": [
       "141.22666666666666"
      ]
     },
     "execution_count": 86,
     "metadata": {},
     "output_type": "execute_result"
    }
   ],
   "source": [
    "np.var(data)"
   ]
  },
  {
   "cell_type": "code",
   "execution_count": 87,
   "id": "21d2562c-f8d4-4cf4-bfc8-032ad815ac2d",
   "metadata": {},
   "outputs": [
    {
     "data": {
      "text/plain": [
       "141.22666666666666"
      ]
     },
     "execution_count": 87,
     "metadata": {},
     "output_type": "execute_result"
    }
   ],
   "source": [
    "statistics.pvariance(data)"
   ]
  },
  {
   "cell_type": "code",
   "execution_count": 88,
   "id": "e18e208b-2531-48ca-8583-252d3b84f7f2",
   "metadata": {},
   "outputs": [
    {
     "data": {
      "text/plain": [
       "141.22666666666666"
      ]
     },
     "execution_count": 88,
     "metadata": {},
     "output_type": "execute_result"
    }
   ],
   "source": [
    "statistics.pvariance(data)"
   ]
  },
  {
   "cell_type": "code",
   "execution_count": 89,
   "id": "79a231ae-9e03-4a74-8441-b96dba20ddc3",
   "metadata": {},
   "outputs": [],
   "source": [
    "import seaborn as sns\n",
    "df = sns.load_dataset('tips')"
   ]
  },
  {
   "cell_type": "code",
   "execution_count": 90,
   "id": "8379ce22-1fb4-420d-831e-3f33195fdfcf",
   "metadata": {},
   "outputs": [
    {
     "data": {
      "text/html": [
       "<div>\n",
       "<style scoped>\n",
       "    .dataframe tbody tr th:only-of-type {\n",
       "        vertical-align: middle;\n",
       "    }\n",
       "\n",
       "    .dataframe tbody tr th {\n",
       "        vertical-align: top;\n",
       "    }\n",
       "\n",
       "    .dataframe thead th {\n",
       "        text-align: right;\n",
       "    }\n",
       "</style>\n",
       "<table border=\"1\" class=\"dataframe\">\n",
       "  <thead>\n",
       "    <tr style=\"text-align: right;\">\n",
       "      <th></th>\n",
       "      <th>total_bill</th>\n",
       "      <th>tip</th>\n",
       "      <th>sex</th>\n",
       "      <th>smoker</th>\n",
       "      <th>day</th>\n",
       "      <th>time</th>\n",
       "      <th>size</th>\n",
       "    </tr>\n",
       "  </thead>\n",
       "  <tbody>\n",
       "    <tr>\n",
       "      <th>0</th>\n",
       "      <td>16.99</td>\n",
       "      <td>1.01</td>\n",
       "      <td>Female</td>\n",
       "      <td>No</td>\n",
       "      <td>Sun</td>\n",
       "      <td>Dinner</td>\n",
       "      <td>2</td>\n",
       "    </tr>\n",
       "    <tr>\n",
       "      <th>1</th>\n",
       "      <td>10.34</td>\n",
       "      <td>1.66</td>\n",
       "      <td>Male</td>\n",
       "      <td>No</td>\n",
       "      <td>Sun</td>\n",
       "      <td>Dinner</td>\n",
       "      <td>3</td>\n",
       "    </tr>\n",
       "    <tr>\n",
       "      <th>2</th>\n",
       "      <td>21.01</td>\n",
       "      <td>3.50</td>\n",
       "      <td>Male</td>\n",
       "      <td>No</td>\n",
       "      <td>Sun</td>\n",
       "      <td>Dinner</td>\n",
       "      <td>3</td>\n",
       "    </tr>\n",
       "    <tr>\n",
       "      <th>3</th>\n",
       "      <td>23.68</td>\n",
       "      <td>3.31</td>\n",
       "      <td>Male</td>\n",
       "      <td>No</td>\n",
       "      <td>Sun</td>\n",
       "      <td>Dinner</td>\n",
       "      <td>2</td>\n",
       "    </tr>\n",
       "    <tr>\n",
       "      <th>4</th>\n",
       "      <td>24.59</td>\n",
       "      <td>3.61</td>\n",
       "      <td>Female</td>\n",
       "      <td>No</td>\n",
       "      <td>Sun</td>\n",
       "      <td>Dinner</td>\n",
       "      <td>4</td>\n",
       "    </tr>\n",
       "  </tbody>\n",
       "</table>\n",
       "</div>"
      ],
      "text/plain": [
       "   total_bill   tip     sex smoker  day    time  size\n",
       "0       16.99  1.01  Female     No  Sun  Dinner     2\n",
       "1       10.34  1.66    Male     No  Sun  Dinner     3\n",
       "2       21.01  3.50    Male     No  Sun  Dinner     3\n",
       "3       23.68  3.31    Male     No  Sun  Dinner     2\n",
       "4       24.59  3.61  Female     No  Sun  Dinner     4"
      ]
     },
     "execution_count": 90,
     "metadata": {},
     "output_type": "execute_result"
    }
   ],
   "source": [
    "df.head()"
   ]
  },
  {
   "cell_type": "code",
   "execution_count": 91,
   "id": "a47be8c6-09b9-4c27-af1e-3eb25abd2761",
   "metadata": {},
   "outputs": [
    {
     "name": "stdout",
     "output_type": "stream",
     "text": [
      "<class 'pandas.core.frame.DataFrame'>\n",
      "RangeIndex: 244 entries, 0 to 243\n",
      "Data columns (total 7 columns):\n",
      " #   Column      Non-Null Count  Dtype   \n",
      "---  ------      --------------  -----   \n",
      " 0   total_bill  244 non-null    float64 \n",
      " 1   tip         244 non-null    float64 \n",
      " 2   sex         244 non-null    category\n",
      " 3   smoker      244 non-null    category\n",
      " 4   day         244 non-null    category\n",
      " 5   time        244 non-null    category\n",
      " 6   size        244 non-null    int64   \n",
      "dtypes: category(4), float64(2), int64(1)\n",
      "memory usage: 7.4 KB\n"
     ]
    }
   ],
   "source": [
    "df.info()"
   ]
  },
  {
   "cell_type": "code",
   "execution_count": 92,
   "id": "325892d0-9a45-45f4-887e-cadb92ce3fbf",
   "metadata": {},
   "outputs": [
    {
     "name": "stderr",
     "output_type": "stream",
     "text": [
      "/tmp/ipykernel_102/1134722465.py:1: FutureWarning: The default value of numeric_only in DataFrame.corr is deprecated. In a future version, it will default to False. Select only valid columns or specify the value of numeric_only to silence this warning.\n",
      "  df.corr()\n"
     ]
    },
    {
     "data": {
      "text/html": [
       "<div>\n",
       "<style scoped>\n",
       "    .dataframe tbody tr th:only-of-type {\n",
       "        vertical-align: middle;\n",
       "    }\n",
       "\n",
       "    .dataframe tbody tr th {\n",
       "        vertical-align: top;\n",
       "    }\n",
       "\n",
       "    .dataframe thead th {\n",
       "        text-align: right;\n",
       "    }\n",
       "</style>\n",
       "<table border=\"1\" class=\"dataframe\">\n",
       "  <thead>\n",
       "    <tr style=\"text-align: right;\">\n",
       "      <th></th>\n",
       "      <th>total_bill</th>\n",
       "      <th>tip</th>\n",
       "      <th>size</th>\n",
       "    </tr>\n",
       "  </thead>\n",
       "  <tbody>\n",
       "    <tr>\n",
       "      <th>total_bill</th>\n",
       "      <td>1.000000</td>\n",
       "      <td>0.675734</td>\n",
       "      <td>0.598315</td>\n",
       "    </tr>\n",
       "    <tr>\n",
       "      <th>tip</th>\n",
       "      <td>0.675734</td>\n",
       "      <td>1.000000</td>\n",
       "      <td>0.489299</td>\n",
       "    </tr>\n",
       "    <tr>\n",
       "      <th>size</th>\n",
       "      <td>0.598315</td>\n",
       "      <td>0.489299</td>\n",
       "      <td>1.000000</td>\n",
       "    </tr>\n",
       "  </tbody>\n",
       "</table>\n",
       "</div>"
      ],
      "text/plain": [
       "            total_bill       tip      size\n",
       "total_bill    1.000000  0.675734  0.598315\n",
       "tip           0.675734  1.000000  0.489299\n",
       "size          0.598315  0.489299  1.000000"
      ]
     },
     "execution_count": 92,
     "metadata": {},
     "output_type": "execute_result"
    }
   ],
   "source": [
    "df.corr()"
   ]
  },
  {
   "cell_type": "code",
   "execution_count": 93,
   "id": "27f02419-56eb-42df-9717-e93ab9fa8ef7",
   "metadata": {},
   "outputs": [
    {
     "data": {
      "text/plain": [
       "<AxesSubplot: >"
      ]
     },
     "execution_count": 93,
     "metadata": {},
     "output_type": "execute_result"
    },
    {
     "data": {
      "image/png": "[encoded data removed]",
      "text/plain": [
       "<Figure size 640x480 with 1 Axes>"
      ]
     },
     "metadata": {},
     "output_type": "display_data"
    }
   ],
   "source": [
    "sns.scatterplot(df[['tip' , 'size']])"
   ]
  },
  {
   "cell_type": "code",
   "execution_count": 94,
   "id": "9bbab828-8e7b-4b37-9c2f-7e059d111d20",
   "metadata": {},
   "outputs": [
    {
     "data": {
      "text/html": [
       "<div>\n",
       "<style scoped>\n",
       "    .dataframe tbody tr th:only-of-type {\n",
       "        vertical-align: middle;\n",
       "    }\n",
       "\n",
       "    .dataframe tbody tr th {\n",
       "        vertical-align: top;\n",
       "    }\n",
       "\n",
       "    .dataframe thead th {\n",
       "        text-align: right;\n",
       "    }\n",
       "</style>\n",
       "<table border=\"1\" class=\"dataframe\">\n",
       "  <thead>\n",
       "    <tr style=\"text-align: right;\">\n",
       "      <th></th>\n",
       "      <th>total_bill</th>\n",
       "      <th>tip</th>\n",
       "      <th>sex</th>\n",
       "      <th>smoker</th>\n",
       "      <th>day</th>\n",
       "      <th>time</th>\n",
       "      <th>size</th>\n",
       "    </tr>\n",
       "  </thead>\n",
       "  <tbody>\n",
       "    <tr>\n",
       "      <th>0</th>\n",
       "      <td>16.99</td>\n",
       "      <td>1.01</td>\n",
       "      <td>Female</td>\n",
       "      <td>No</td>\n",
       "      <td>Sun</td>\n",
       "      <td>Dinner</td>\n",
       "      <td>2</td>\n",
       "    </tr>\n",
       "    <tr>\n",
       "      <th>1</th>\n",
       "      <td>10.34</td>\n",
       "      <td>1.66</td>\n",
       "      <td>Male</td>\n",
       "      <td>No</td>\n",
       "      <td>Sun</td>\n",
       "      <td>Dinner</td>\n",
       "      <td>3</td>\n",
       "    </tr>\n",
       "    <tr>\n",
       "      <th>2</th>\n",
       "      <td>21.01</td>\n",
       "      <td>3.50</td>\n",
       "      <td>Male</td>\n",
       "      <td>No</td>\n",
       "      <td>Sun</td>\n",
       "      <td>Dinner</td>\n",
       "      <td>3</td>\n",
       "    </tr>\n",
       "    <tr>\n",
       "      <th>3</th>\n",
       "      <td>23.68</td>\n",
       "      <td>3.31</td>\n",
       "      <td>Male</td>\n",
       "      <td>No</td>\n",
       "      <td>Sun</td>\n",
       "      <td>Dinner</td>\n",
       "      <td>2</td>\n",
       "    </tr>\n",
       "    <tr>\n",
       "      <th>4</th>\n",
       "      <td>24.59</td>\n",
       "      <td>3.61</td>\n",
       "      <td>Female</td>\n",
       "      <td>No</td>\n",
       "      <td>Sun</td>\n",
       "      <td>Dinner</td>\n",
       "      <td>4</td>\n",
       "    </tr>\n",
       "  </tbody>\n",
       "</table>\n",
       "</div>"
      ],
      "text/plain": [
       "   total_bill   tip     sex smoker  day    time  size\n",
       "0       16.99  1.01  Female     No  Sun  Dinner     2\n",
       "1       10.34  1.66    Male     No  Sun  Dinner     3\n",
       "2       21.01  3.50    Male     No  Sun  Dinner     3\n",
       "3       23.68  3.31    Male     No  Sun  Dinner     2\n",
       "4       24.59  3.61  Female     No  Sun  Dinner     4"
      ]
     },
     "execution_count": 94,
     "metadata": {},
     "output_type": "execute_result"
    }
   ],
   "source": [
    "df.head()"
   ]
  },
  {
   "cell_type": "code",
   "execution_count": 95,
   "id": "433bbdce-3178-4e2d-92af-7c4d4998a6e8",
   "metadata": {},
   "outputs": [
    {
     "data": {
      "text/plain": [
       "<AxesSubplot: xlabel='tip', ylabel='size'>"
      ]
     },
     "execution_count": 95,
     "metadata": {},
     "output_type": "execute_result"
    },
    {
     "data": {
      "image/png": "[encoded data removed]",
      "text/plain": [
       "<Figure size 640x480 with 1 Axes>"
      ]
     },
     "metadata": {},
     "output_type": "display_data"
    }
   ],
   "source": [
    "sns.scatterplot(x = df[\"tip\"] , y =  df[\"size\"])"
   ]
  },
  {
   "cell_type": "code",
   "execution_count": null,
   "id": "a3bc0eec-5216-4794-9e0a-b86d38873af9",
   "metadata": {},
   "outputs": [],
   "source": [
    "sns.scatterplot(x = df[\"tip\"], y = df[\"total_bill\"])"
   ]
  },
  {
   "cell_type": "code",
   "execution_count": 96,
   "id": "41692823-ae70-4050-b990-4c4d95dda27c",
   "metadata": {},
   "outputs": [
    {
     "data": {
      "text/plain": [
       "<AxesSubplot: xlabel='tip', ylabel='total_bill'>"
      ]
     },
     "execution_count": 96,
     "metadata": {},
     "output_type": "execute_result"
    },
    {
     "data": {
      "image/png": "[encoded data removed]",
      "text/plain": [
       "<Figure size 640x480 with 1 Axes>"
      ]
     },
     "metadata": {},
     "output_type": "display_data"
    }
   ],
   "source": [
    "sns.scatterplot(x = df[\"tip\"] , y =  df[\"total_bill\"])"
   ]
  },
  {
   "cell_type": "code",
   "execution_count": 2,
   "id": "090cc9e4-1784-4e83-8e8a-d1efeb081bb9",
   "metadata": {},
   "outputs": [],
   "source": [
    "import pandas as pd"
   ]
  },
  {
   "cell_type": "code",
   "execution_count": 97,
   "id": "c4950d86-a6a3-4016-b7d7-096efb0c271b",
   "metadata": {},
   "outputs": [],
   "source": [
    "import seaborn as sns"
   ]
  },
  {
   "cell_type": "code",
   "execution_count": 98,
   "id": "54722d32-4a22-4291-a5f5-6d7d6d2c75de",
   "metadata": {},
   "outputs": [
    {
     "data": {
      "text/plain": [
       "<AxesSubplot: ylabel='Count'>"
      ]
     },
     "execution_count": 98,
     "metadata": {},
     "output_type": "execute_result"
    },
    {
     "data": {
      "image/png": "[encoded data removed]",
      "text/plain": [
       "<Figure size 640x480 with 1 Axes>"
      ]
     },
     "metadata": {},
     "output_type": "display_data"
    }
   ],
   "source": [
    "sns.histplot(data,kde = True)"
   ]
  },
  {
   "cell_type": "code",
   "execution_count": 101,
   "id": "a71dcc51-37d9-47a4-bc31-2e1e2667293f",
   "metadata": {},
   "outputs": [
    {
     "data": {
      "text/plain": [
       "<AxesSubplot: ylabel='Count'>"
      ]
     },
     "execution_count": 101,
     "metadata": {},
     "output_type": "execute_result"
    },
    {
     "data": {
      "image/png": "[encoded data removed]",
      "text/plain": [
       "<Figure size 640x480 with 1 Axes>"
      ]
     },
     "metadata": {},
     "output_type": "display_data"
    }
   ],
   "source": [
    "sns.histplot(data,kde = True)"
   ]
  },
  {
   "cell_type": "code",
   "execution_count": 155,
   "id": "c316c36d-01dc-44b9-ab52-e74ff51bcd9c",
   "metadata": {},
   "outputs": [
    {
     "data": {
      "text/plain": [
       "<AxesSubplot: ylabel='Count'>"
      ]
     },
     "execution_count": 155,
     "metadata": {},
     "output_type": "execute_result"
    },
    {
     "data": {
      "image/png": "[encoded data removed]",
      "text/plain": [
       "<Figure size 640x480 with 1 Axes>"
      ]
     },
     "metadata": {},
     "output_type": "display_data"
    }
   ],
   "source": [
    "sns.histplot(data,kde = True)"
   ]
  },
  {
   "cell_type": "code",
   "execution_count": 99,
   "id": "7fdceecb-48ff-4a92-8d18-d01b4ea7da6e",
   "metadata": {},
   "outputs": [
    {
     "data": {
      "text/html": [
       "<div>\n",
       "<style scoped>\n",
       "    .dataframe tbody tr th:only-of-type {\n",
       "        vertical-align: middle;\n",
       "    }\n",
       "\n",
       "    .dataframe tbody tr th {\n",
       "        vertical-align: top;\n",
       "    }\n",
       "\n",
       "    .dataframe thead th {\n",
       "        text-align: right;\n",
       "    }\n",
       "</style>\n",
       "<table border=\"1\" class=\"dataframe\">\n",
       "  <thead>\n",
       "    <tr style=\"text-align: right;\">\n",
       "      <th></th>\n",
       "      <th>Id</th>\n",
       "      <th>SepalLengthCm</th>\n",
       "      <th>SepalWidthCm</th>\n",
       "      <th>PetalLengthCm</th>\n",
       "      <th>PetalWidthCm</th>\n",
       "      <th>Species</th>\n",
       "    </tr>\n",
       "  </thead>\n",
       "  <tbody>\n",
       "    <tr>\n",
       "      <th>0</th>\n",
       "      <td>1</td>\n",
       "      <td>5.1</td>\n",
       "      <td>3.5</td>\n",
       "      <td>1.4</td>\n",
       "      <td>0.2</td>\n",
       "      <td>Iris-setosa</td>\n",
       "    </tr>\n",
       "    <tr>\n",
       "      <th>1</th>\n",
       "      <td>2</td>\n",
       "      <td>4.9</td>\n",
       "      <td>3.0</td>\n",
       "      <td>1.4</td>\n",
       "      <td>0.2</td>\n",
       "      <td>Iris-setosa</td>\n",
       "    </tr>\n",
       "    <tr>\n",
       "      <th>2</th>\n",
       "      <td>3</td>\n",
       "      <td>4.7</td>\n",
       "      <td>3.2</td>\n",
       "      <td>1.3</td>\n",
       "      <td>0.2</td>\n",
       "      <td>Iris-setosa</td>\n",
       "    </tr>\n",
       "    <tr>\n",
       "      <th>3</th>\n",
       "      <td>4</td>\n",
       "      <td>4.6</td>\n",
       "      <td>3.1</td>\n",
       "      <td>1.5</td>\n",
       "      <td>0.2</td>\n",
       "      <td>Iris-setosa</td>\n",
       "    </tr>\n",
       "    <tr>\n",
       "      <th>4</th>\n",
       "      <td>5</td>\n",
       "      <td>5.0</td>\n",
       "      <td>3.6</td>\n",
       "      <td>1.4</td>\n",
       "      <td>0.2</td>\n",
       "      <td>Iris-setosa</td>\n",
       "    </tr>\n",
       "  </tbody>\n",
       "</table>\n",
       "</div>"
      ],
      "text/plain": [
       "   Id  SepalLengthCm  SepalWidthCm  PetalLengthCm  PetalWidthCm      Species\n",
       "0   1            5.1           3.5            1.4           0.2  Iris-setosa\n",
       "1   2            4.9           3.0            1.4           0.2  Iris-setosa\n",
       "2   3            4.7           3.2            1.3           0.2  Iris-setosa\n",
       "3   4            4.6           3.1            1.5           0.2  Iris-setosa\n",
       "4   5            5.0           3.6            1.4           0.2  Iris-setosa"
      ]
     },
     "execution_count": 99,
     "metadata": {},
     "output_type": "execute_result"
    }
   ],
   "source": [
    "data2.head()"
   ]
  },
  {
   "cell_type": "code",
   "execution_count": 158,
   "id": "640db219-df1d-4e2e-acae-95f63a41f018",
   "metadata": {},
   "outputs": [
    {
     "data": {
      "text/plain": [
       "<AxesSubplot: xlabel='SepalLengthCm', ylabel='Count'>"
      ]
     },
     "execution_count": 158,
     "metadata": {},
     "output_type": "execute_result"
    },
    {
     "data": {
      "image/png": "[encoded data removed]",
      "text/plain": [
       "<Figure size 640x480 with 1 Axes>"
      ]
     },
     "metadata": {},
     "output_type": "display_data"
    }
   ],
   "source": [
    "sns.histplot(data2[\"SepalLengthCm\"] , kde = True)"
   ]
  },
  {
   "cell_type": "code",
   "execution_count": 100,
   "id": "00d19214-28a0-4131-8986-6dbcc0266ad0",
   "metadata": {},
   "outputs": [
    {
     "data": {
      "text/plain": [
       "<AxesSubplot: xlabel='SepalWidthCm', ylabel='Count'>"
      ]
     },
     "execution_count": 100,
     "metadata": {},
     "output_type": "execute_result"
    },
    {
     "data": {
      "image/png": "[encoded data removed]",
      "text/plain": [
       "<Figure size 640x480 with 1 Axes>"
      ]
     },
     "metadata": {},
     "output_type": "display_data"
    }
   ],
   "source": [
    "sns.histplot(data2[\"SepalWidthCm\"],kde = True)"
   ]
  },
  {
   "cell_type": "code",
   "execution_count": 101,
   "id": "bf08d729-d262-43fc-ab01-81bc0b8620dc",
   "metadata": {},
   "outputs": [
    {
     "data": {
      "text/plain": [
       "<AxesSubplot: xlabel='PetalLengthCm', ylabel='Count'>"
      ]
     },
     "execution_count": 101,
     "metadata": {},
     "output_type": "execute_result"
    },
    {
     "data": {
      "image/png": "[encoded data removed]",
      "text/plain": [
       "<Figure size 640x480 with 1 Axes>"
      ]
     },
     "metadata": {},
     "output_type": "display_data"
    }
   ],
   "source": [
    "sns.histplot(data2[\"PetalLengthCm\"],kde = True)"
   ]
  },
  {
   "cell_type": "code",
   "execution_count": 106,
   "id": "ea41a355-bd3d-4999-826f-f580b3b75160",
   "metadata": {},
   "outputs": [],
   "source": [
    "data_copy.append(455)"
   ]
  },
  {
   "cell_type": "code",
   "execution_count": 107,
   "id": "047243f6-a4e2-47cf-a1ea-c760b8b5ae30",
   "metadata": {},
   "outputs": [
    {
     "data": {
      "text/plain": [
       "[5,\n",
       " 6,\n",
       " 22,\n",
       " 23,\n",
       " 24,\n",
       " 25,\n",
       " 26,\n",
       " 27,\n",
       " 28,\n",
       " 29,\n",
       " 30,\n",
       " 31,\n",
       " 33,\n",
       " 44,\n",
       " 55,\n",
       " 150,\n",
       " 299,\n",
       " 159,\n",
       " 298,\n",
       " 455,\n",
       " 455]"
      ]
     },
     "execution_count": 107,
     "metadata": {},
     "output_type": "execute_result"
    }
   ],
   "source": [
    "data_copy"
   ]
  },
  {
   "cell_type": "code",
   "execution_count": 108,
   "id": "35f80d5e-f686-4889-9734-b0847faec22d",
   "metadata": {},
   "outputs": [
    {
     "data": {
      "text/plain": [
       "<AxesSubplot: ylabel='Count'>"
      ]
     },
     "execution_count": 108,
     "metadata": {},
     "output_type": "execute_result"
    },
    {
     "data": {
      "image/png": "[encoded data removed]",
      "text/plain": [
       "<Figure size 640x480 with 1 Axes>"
      ]
     },
     "metadata": {},
     "output_type": "display_data"
    }
   ],
   "source": [
    "sns.histplot(data_copy , kde = True)"
   ]
  },
  {
   "cell_type": "code",
   "execution_count": 116,
   "id": "cacd0e4e-907f-45e0-84cb-cdd245d43749",
   "metadata": {},
   "outputs": [],
   "source": [
    "data_copy2 = [12, 23, 24, 32, 32, 32, 43, 45, 45, 56, 67]"
   ]
  },
  {
   "cell_type": "code",
   "execution_count": 117,
   "id": "11898f90-ca04-44ed-a05e-e4105b1f26b9",
   "metadata": {},
   "outputs": [
    {
     "data": {
      "text/plain": [
       "[12, 23, 24, 32, 32, 32, 43, 45, 45, 56, 67]"
      ]
     },
     "execution_count": 117,
     "metadata": {},
     "output_type": "execute_result"
    }
   ],
   "source": [
    "data_copy2"
   ]
  },
  {
   "cell_type": "code",
   "execution_count": 118,
   "id": "6c59e71f-4e62-4354-af71-1a85734987ac",
   "metadata": {},
   "outputs": [],
   "source": [
    "data_copy2[0] = -10"
   ]
  },
  {
   "cell_type": "code",
   "execution_count": 119,
   "id": "e04e64fe-8b24-4208-aeda-e756460ca73c",
   "metadata": {},
   "outputs": [
    {
     "data": {
      "text/plain": [
       "[-10, 23, 24, 32, 32, 32, 43, 45, 45, 56, 67]"
      ]
     },
     "execution_count": 119,
     "metadata": {},
     "output_type": "execute_result"
    }
   ],
   "source": [
    "data_copy2"
   ]
  },
  {
   "cell_type": "code",
   "execution_count": 121,
   "id": "44d37f05-5665-4fd9-98a3-82b8bf30090f",
   "metadata": {},
   "outputs": [],
   "source": [
    "data_copy2[1] = -75"
   ]
  },
  {
   "cell_type": "code",
   "execution_count": 122,
   "id": "8d624297-5132-432d-a551-8c8cca21e6d8",
   "metadata": {},
   "outputs": [
    {
     "data": {
      "text/plain": [
       "[-10, -75, 24, 32, 32, 32, 43, 45, 45, 56, 67]"
      ]
     },
     "execution_count": 122,
     "metadata": {},
     "output_type": "execute_result"
    }
   ],
   "source": [
    "data_copy2"
   ]
  },
  {
   "cell_type": "code",
   "execution_count": 123,
   "id": "8d429b3f-8c23-40ba-9e81-72dea5943296",
   "metadata": {},
   "outputs": [
    {
     "data": {
      "text/plain": [
       "<AxesSubplot: ylabel='Count'>"
      ]
     },
     "execution_count": 123,
     "metadata": {},
     "output_type": "execute_result"
    },
    {
     "data": {
      "image/png": "[encoded data removed]",
      "text/plain": [
       "<Figure size 640x480 with 1 Axes>"
      ]
     },
     "metadata": {},
     "output_type": "display_data"
    }
   ],
   "source": [
    "sns.histplot(data_copy2 , kde = True)"
   ]
  },
  {
   "cell_type": "code",
   "execution_count": 174,
   "id": "573b4a10-1873-4b24-84ca-496c367bbac6",
   "metadata": {},
   "outputs": [
    {
     "data": {
      "text/html": [
       "<div>\n",
       "<style scoped>\n",
       "    .dataframe tbody tr th:only-of-type {\n",
       "        vertical-align: middle;\n",
       "    }\n",
       "\n",
       "    .dataframe tbody tr th {\n",
       "        vertical-align: top;\n",
       "    }\n",
       "\n",
       "    .dataframe thead th {\n",
       "        text-align: right;\n",
       "    }\n",
       "</style>\n",
       "<table border=\"1\" class=\"dataframe\">\n",
       "  <thead>\n",
       "    <tr style=\"text-align: right;\">\n",
       "      <th></th>\n",
       "      <th>Id</th>\n",
       "      <th>SepalLengthCm</th>\n",
       "      <th>SepalWidthCm</th>\n",
       "      <th>PetalLengthCm</th>\n",
       "      <th>PetalWidthCm</th>\n",
       "      <th>Species</th>\n",
       "    </tr>\n",
       "  </thead>\n",
       "  <tbody>\n",
       "    <tr>\n",
       "      <th>0</th>\n",
       "      <td>1</td>\n",
       "      <td>5.1</td>\n",
       "      <td>3.5</td>\n",
       "      <td>1.4</td>\n",
       "      <td>0.2</td>\n",
       "      <td>Iris-setosa</td>\n",
       "    </tr>\n",
       "    <tr>\n",
       "      <th>1</th>\n",
       "      <td>2</td>\n",
       "      <td>4.9</td>\n",
       "      <td>3.0</td>\n",
       "      <td>1.4</td>\n",
       "      <td>0.2</td>\n",
       "      <td>Iris-setosa</td>\n",
       "    </tr>\n",
       "    <tr>\n",
       "      <th>2</th>\n",
       "      <td>3</td>\n",
       "      <td>4.7</td>\n",
       "      <td>3.2</td>\n",
       "      <td>1.3</td>\n",
       "      <td>0.2</td>\n",
       "      <td>Iris-setosa</td>\n",
       "    </tr>\n",
       "    <tr>\n",
       "      <th>3</th>\n",
       "      <td>4</td>\n",
       "      <td>4.6</td>\n",
       "      <td>3.1</td>\n",
       "      <td>1.5</td>\n",
       "      <td>0.2</td>\n",
       "      <td>Iris-setosa</td>\n",
       "    </tr>\n",
       "    <tr>\n",
       "      <th>4</th>\n",
       "      <td>5</td>\n",
       "      <td>5.0</td>\n",
       "      <td>3.6</td>\n",
       "      <td>1.4</td>\n",
       "      <td>0.2</td>\n",
       "      <td>Iris-setosa</td>\n",
       "    </tr>\n",
       "    <tr>\n",
       "      <th>...</th>\n",
       "      <td>...</td>\n",
       "      <td>...</td>\n",
       "      <td>...</td>\n",
       "      <td>...</td>\n",
       "      <td>...</td>\n",
       "      <td>...</td>\n",
       "    </tr>\n",
       "    <tr>\n",
       "      <th>145</th>\n",
       "      <td>146</td>\n",
       "      <td>6.7</td>\n",
       "      <td>3.0</td>\n",
       "      <td>5.2</td>\n",
       "      <td>2.3</td>\n",
       "      <td>Iris-virginica</td>\n",
       "    </tr>\n",
       "    <tr>\n",
       "      <th>146</th>\n",
       "      <td>147</td>\n",
       "      <td>6.3</td>\n",
       "      <td>2.5</td>\n",
       "      <td>5.0</td>\n",
       "      <td>1.9</td>\n",
       "      <td>Iris-virginica</td>\n",
       "    </tr>\n",
       "    <tr>\n",
       "      <th>147</th>\n",
       "      <td>148</td>\n",
       "      <td>6.5</td>\n",
       "      <td>3.0</td>\n",
       "      <td>5.2</td>\n",
       "      <td>2.0</td>\n",
       "      <td>Iris-virginica</td>\n",
       "    </tr>\n",
       "    <tr>\n",
       "      <th>148</th>\n",
       "      <td>149</td>\n",
       "      <td>6.2</td>\n",
       "      <td>3.4</td>\n",
       "      <td>5.4</td>\n",
       "      <td>2.3</td>\n",
       "      <td>Iris-virginica</td>\n",
       "    </tr>\n",
       "    <tr>\n",
       "      <th>149</th>\n",
       "      <td>150</td>\n",
       "      <td>5.9</td>\n",
       "      <td>3.0</td>\n",
       "      <td>5.1</td>\n",
       "      <td>1.8</td>\n",
       "      <td>Iris-virginica</td>\n",
       "    </tr>\n",
       "  </tbody>\n",
       "</table>\n",
       "<p>150 rows × 6 columns</p>\n",
       "</div>"
      ],
      "text/plain": [
       "      Id  SepalLengthCm  SepalWidthCm  PetalLengthCm  PetalWidthCm  \\\n",
       "0      1            5.1           3.5            1.4           0.2   \n",
       "1      2            4.9           3.0            1.4           0.2   \n",
       "2      3            4.7           3.2            1.3           0.2   \n",
       "3      4            4.6           3.1            1.5           0.2   \n",
       "4      5            5.0           3.6            1.4           0.2   \n",
       "..   ...            ...           ...            ...           ...   \n",
       "145  146            6.7           3.0            5.2           2.3   \n",
       "146  147            6.3           2.5            5.0           1.9   \n",
       "147  148            6.5           3.0            5.2           2.0   \n",
       "148  149            6.2           3.4            5.4           2.3   \n",
       "149  150            5.9           3.0            5.1           1.8   \n",
       "\n",
       "            Species  \n",
       "0       Iris-setosa  \n",
       "1       Iris-setosa  \n",
       "2       Iris-setosa  \n",
       "3       Iris-setosa  \n",
       "4       Iris-setosa  \n",
       "..              ...  \n",
       "145  Iris-virginica  \n",
       "146  Iris-virginica  \n",
       "147  Iris-virginica  \n",
       "148  Iris-virginica  \n",
       "149  Iris-virginica  \n",
       "\n",
       "[150 rows x 6 columns]"
      ]
     },
     "execution_count": 174,
     "metadata": {},
     "output_type": "execute_result"
    }
   ],
   "source": [
    "data2"
   ]
  },
  {
   "cell_type": "code",
   "execution_count": 124,
   "id": "cceb6c19-b508-4e5c-8a16-0740734a01cf",
   "metadata": {},
   "outputs": [
    {
     "data": {
      "text/plain": [
       "array([ 0.6661353 ,  0.53726624,  0.63448092,  0.15663672,  0.65341503,\n",
       "        0.77929213,  0.30378533,  0.57150983,  0.38056522,  0.66076171,\n",
       "        0.62608304,  0.38905507,  0.45822663,  0.30091855,  0.27382968,\n",
       "        0.3392955 ,  0.47066286,  0.78172689,  0.58680736,  0.42854987,\n",
       "        0.65341455,  0.23189955,  0.44153113,  0.214462  ,  0.73520708,\n",
       "        0.59845912,  0.10902006,  0.54926229,  0.56648621,  0.46921506,\n",
       "        0.6328669 ,  0.52232999,  0.70074114,  0.62245748,  0.34524438,\n",
       "        0.4667591 ,  0.57333706,  0.31624085,  0.18340801,  0.4553424 ,\n",
       "        1.11703042,  0.31849247,  0.6006821 ,  0.64651863,  0.53570205,\n",
       "        0.38710938,  0.21734554,  0.3157363 ,  0.83228247,  0.67106549,\n",
       "        0.34497641,  0.66287839,  0.68580211,  0.5161426 ,  0.7076909 ,\n",
       "        0.74745197,  0.55431791,  0.49352053,  0.83132915,  0.61424751,\n",
       "        0.21036328,  0.89826463,  0.66103115,  0.32572138,  0.69552253,\n",
       "        0.48732965,  0.33461797,  0.3282847 ,  0.62459704,  0.16484338,\n",
       "        0.56613595,  0.44334516,  0.56653433,  0.29038507,  0.72824092,\n",
       "        0.25020044,  0.64768018,  0.56203707,  0.40061519,  0.98095856,\n",
       "        0.74239946,  0.51059002,  0.52036938,  0.65223551,  0.66474973,\n",
       "        0.59270195,  0.48821644,  0.57298038,  0.05469183,  0.54662733,\n",
       "        0.76320689,  0.36216524,  0.4885011 ,  0.51150142,  0.51370095,\n",
       "        0.44607762,  0.38640314,  0.54899996,  0.31521012,  0.3323271 ,\n",
       "        0.82929841,  0.59928148,  0.68904238,  0.54656348,  0.48990485,\n",
       "        0.48059495,  0.67298027,  0.72665891,  0.82541996,  0.81506265,\n",
       "        0.4040004 ,  0.44530468,  0.65773381,  0.54008629,  0.63654025,\n",
       "        0.40026632,  0.20932583,  0.29806563,  0.46877437,  0.43156866,\n",
       "        0.1050701 ,  0.39350403,  0.8966815 ,  0.76602895,  0.77076195,\n",
       "        0.55440999,  0.45959399,  0.62498861,  0.68179033,  0.76683917,\n",
       "        0.45299269,  0.31341213,  0.12469148,  0.69431179,  0.44090723,\n",
       "        0.45489097,  0.46410169,  0.42674649,  0.53360703,  0.42744786,\n",
       "        0.3351477 ,  0.58972258,  0.49934944,  0.63491003,  0.47296545,\n",
       "        0.78118611,  0.46838976,  0.69437756,  0.66596343,  0.33062434,\n",
       "        0.41700483,  0.37583616,  0.28945665,  0.83569805,  0.95967254,\n",
       "        0.22093852,  0.56505504,  0.51630719,  0.99778408,  0.35155593,\n",
       "        0.51212759,  0.61913957,  0.72661182,  0.27799985,  0.57519556,\n",
       "        0.61470492,  0.56074188,  0.3969869 ,  0.5236945 ,  0.36009414,\n",
       "        0.32686551,  0.36838666,  0.44642229,  0.49889282,  0.2028535 ,\n",
       "        0.3810263 ,  0.47038578,  0.5062033 , -0.01106839,  0.28797933,\n",
       "        0.47276726,  0.44781884,  0.29551687,  0.4956819 ,  0.51941682,\n",
       "        0.50938634,  0.47888204,  0.50766448,  0.36967006,  0.5657005 ,\n",
       "        0.67784717,  0.60642565,  0.81568294,  0.61116372,  0.4402025 ,\n",
       "        0.31061817,  0.47851121,  0.24373118,  0.71822467,  0.28479149,\n",
       "        0.43107197,  0.52058878,  0.56318914,  0.79436734,  0.27509739,\n",
       "        0.50005939,  0.63516864,  0.55303702,  0.38984185,  0.74132886,\n",
       "        0.80144618,  0.30557207,  0.3041949 ,  0.67055082,  0.44547484,\n",
       "        0.2823163 ,  0.55778778,  0.55954694,  0.34369022,  0.82210726,\n",
       "       -0.14679356,  0.66664501,  0.17005378,  0.44628637,  0.80551655,\n",
       "        0.73666696,  0.6828778 ,  0.47716158,  0.44437867,  0.48703578,\n",
       "        0.12298257,  0.69734419,  0.3256211 ,  0.41921694,  0.46602425,\n",
       "        0.538213  ,  0.50511296,  0.69752068,  0.18208696,  0.34669939,\n",
       "        0.36133332,  0.5864455 ,  0.56954572,  0.68414626,  0.85254101,\n",
       "        0.32291347,  0.42780474,  0.44299831,  0.57340547,  0.72058293,\n",
       "        0.69032875,  0.0073902 ,  0.5075327 ,  0.55793377,  0.20562321,\n",
       "        0.61652411,  0.75602963,  0.640245  ,  0.77357954,  0.72081687,\n",
       "        0.60264501,  0.14968572,  0.29685679,  0.59018161,  0.2488423 ,\n",
       "        0.71298354,  0.61299248,  0.46907623,  0.346878  ,  0.3835316 ,\n",
       "        0.62823188,  0.10863032,  0.29602635,  0.75582779,  0.63110916,\n",
       "        0.50486627,  0.16854329,  0.51001522,  0.53553572,  0.49749329,\n",
       "        0.83270192,  0.66754331,  0.80267572,  0.30612537,  0.62257604,\n",
       "        0.69835362,  0.91211867,  0.55472332,  0.42663858,  0.16891746,\n",
       "        0.24633795,  0.50096323,  0.5918487 ,  0.23528081,  0.34261264,\n",
       "        0.51129823,  0.83313523,  0.69497384,  0.636115  ,  0.66249154,\n",
       "        0.32601665,  0.51600749,  0.61601907,  0.77853294,  0.58298124,\n",
       "        0.48034776,  0.56574003,  0.53929326,  0.34141712,  0.56422435,\n",
       "        0.31118993,  0.44170365,  0.63662013,  0.16212763,  0.83075094,\n",
       "        0.29197108,  0.63482454,  0.45212796,  0.77722932,  0.34072395,\n",
       "        0.38829431,  0.51177833,  0.53060372,  0.59893437,  0.90098173,\n",
       "        0.41977952,  0.58122464,  0.16894067,  0.49053974,  0.59821861,\n",
       "        0.37515165,  0.54197375,  0.29746492,  0.53625039,  1.24649351,\n",
       "        0.34676721,  0.06741916,  0.43122531,  0.06722086,  0.16923692,\n",
       "        0.52305263,  0.47423378,  0.76711352,  0.35281647,  0.50390219,\n",
       "        0.82046518,  0.35750091,  0.59529177,  0.04928858,  0.57334871,\n",
       "        0.76109084,  0.46039999,  0.56938137,  0.46223006,  0.81031593,\n",
       "        0.49029787,  0.31689884,  0.58693727,  0.5296668 ,  0.82478312,\n",
       "        0.75176135,  0.83302621,  0.81819756,  0.60973922,  0.99682524,\n",
       "        0.59740903,  0.48056985,  0.08132634,  0.40343591,  0.22889724,\n",
       "        0.64925821,  0.32039154,  0.7322881 ,  0.45880229,  0.72016317,\n",
       "        0.52995557,  0.34135226,  0.75558566,  0.65492701,  0.4123505 ,\n",
       "        0.26833539,  0.52013687,  0.39652135,  0.35870653,  0.44534818,\n",
       "        0.67644664,  0.42365637,  0.91319837,  0.59785479,  0.73599324,\n",
       "        0.65046911,  0.49057974,  0.51649676,  0.36505741,  0.43578497,\n",
       "        0.57327357,  0.3216727 ,  0.52942715,  0.31872599,  0.55783448,\n",
       "        0.21157298,  0.36274456,  0.56217123,  0.70275786,  0.44801462,\n",
       "        0.49606939,  0.34385079,  0.36920986,  0.51995525,  0.71355727,\n",
       "        0.59722087,  0.08977416,  0.55051608,  0.47674238,  0.47598117,\n",
       "        0.40619616,  0.6371743 ,  0.60297116,  0.71110546,  0.55045754,\n",
       "        0.45637552,  0.23529538,  0.27105197,  0.73007141,  0.85998418,\n",
       "        0.60043377,  0.69055917,  0.69785748,  0.78890823,  0.74914066,\n",
       "        0.41899847,  0.47525805,  0.89103888,  0.27148326,  0.5678025 ,\n",
       "        0.60121797,  0.27811124,  0.50795737,  0.15670878,  0.52431674,\n",
       "        0.37900814,  0.79265905,  0.43202574,  0.31471948,  0.56404034,\n",
       "        0.33220583,  0.55313942,  0.39079896,  0.65824607,  0.68448776,\n",
       "        0.5700344 ,  0.1687423 ,  0.35806624,  0.24018432,  0.29843603,\n",
       "        0.82501951,  0.4744841 ,  0.76929009,  0.4058755 ,  0.499618  ,\n",
       "        0.71275735,  0.38337196,  0.33374709,  0.41329265,  0.11543734,\n",
       "        0.61136918,  0.40639707,  0.56143412,  0.51005123,  0.48171617,\n",
       "        0.56165835,  0.45547318,  0.19175973,  0.44623154,  0.28013766,\n",
       "        0.44868652,  0.32298262,  0.49879135,  0.8385768 ,  0.58057478,\n",
       "        0.72421248,  0.82891035,  0.27878619,  0.88120108,  0.64079946,\n",
       "        0.60374685,  0.74584766,  0.17147508,  0.65358357,  0.92859273,\n",
       "        0.85551935,  0.93243618,  0.27467772,  0.59066339,  0.39679243,\n",
       "        0.24989017,  0.5412404 ,  0.7209632 ,  0.62113888,  0.16103473,\n",
       "        0.37204737,  0.91043213,  0.62406346,  0.64899924,  0.19200812,\n",
       "        0.30002674,  0.65857452,  0.14100935,  0.64477142,  0.55796696,\n",
       "        0.72606488,  0.57442231,  0.29035294,  0.65727711,  0.54581996,\n",
       "        0.64104798,  0.38269404,  0.43143509,  0.52982026,  0.32165382,\n",
       "        0.47274943,  0.19405712,  0.32960711,  0.3862048 ,  0.49077379,\n",
       "        0.57594467,  0.55449483,  0.22726287,  0.84026152,  0.5600328 ,\n",
       "        0.35923134,  0.48368947,  0.77535545,  0.5663153 ,  0.65876077,\n",
       "        0.76375213,  0.30568969,  0.42413525,  0.84090691,  0.26232998,\n",
       "        0.36655223,  0.31014463,  0.4940397 ,  0.8277982 ,  0.49125314,\n",
       "        0.6337914 ,  0.28088203,  0.25980336,  0.65367558,  0.42337075,\n",
       "        0.52152947,  0.30879781,  0.75537405,  0.66053717,  0.50844113,\n",
       "        0.35554181,  0.45752987,  0.33925376,  0.74108131,  0.2614441 ,\n",
       "        0.58327032,  0.64628888,  0.15809374,  0.55198801,  0.66028827,\n",
       "        0.24632888,  0.51245541,  0.425634  ,  0.53856252,  0.80105134,\n",
       "        0.26528769,  0.2906007 ,  0.27354616,  0.49552156,  0.56181514,\n",
       "        0.45398848, -0.02238022,  0.81441157,  0.2411743 ,  0.46722305,\n",
       "        0.60372208,  0.35953767,  0.60137682,  0.35793119,  0.62086921,\n",
       "        0.38623008,  0.52447726,  0.9773905 ,  0.50008146,  0.36129861,\n",
       "        0.3870867 ,  0.40309031,  0.43423021,  0.55115179,  0.34526937,\n",
       "        0.10684766,  0.27864841,  0.52115569,  0.85874027,  0.88672413,\n",
       "        0.44271571,  0.85984425,  0.46740021,  0.20595384,  0.63561144,\n",
       "        0.36270674,  0.55199903,  0.49048459,  0.24899487,  0.67422589,\n",
       "        0.34354339,  0.42290337,  0.46661006,  0.56539355,  0.75829324,\n",
       "        0.89929063,  0.49923781,  0.3722799 ,  0.58352075,  0.32394959,\n",
       "        0.59801116,  0.13353001,  0.23300953,  0.45104987,  0.47088395,\n",
       "        0.14783452,  0.59674749,  0.73050297,  0.75160545,  0.3473584 ,\n",
       "        0.49680729,  0.85546875,  0.10964532,  0.26594902,  0.54062868,\n",
       "        0.28104356,  0.38321057,  0.32505927,  0.52000443,  0.47487208,\n",
       "        0.42466294,  0.61332975,  0.55934047,  0.45275083,  0.46700263,\n",
       "        0.3536718 ,  0.57497465,  0.22269528,  0.87860632,  0.28271771,\n",
       "        0.40175935,  0.45765399,  0.94766428,  0.62479404,  0.57230935,\n",
       "        0.52889126,  0.41059625,  0.67416867,  0.17986939,  0.75344001,\n",
       "        0.45529125,  0.36949066,  0.41872637,  0.43193887,  0.30235169,\n",
       "        0.58682731,  0.33050096,  0.58452165,  0.60426023,  0.60017549,\n",
       "        0.32099268,  0.47967991,  0.48449308,  0.69804559,  0.56514228,\n",
       "        0.40681456,  0.37658963,  0.69249507,  0.60969461,  0.6746298 ,\n",
       "        0.80022241,  0.3916645 ,  0.74666943,  0.27814478,  1.0565523 ,\n",
       "        0.38637866,  0.3103945 ,  0.62991098,  0.29785129,  0.67527758,\n",
       "        0.2315322 ,  0.11125366,  0.06188467,  0.31982164,  0.5111938 ,\n",
       "        0.34955439,  0.51810936,  0.58499078,  0.46606716,  0.63491779,\n",
       "        0.6026468 ,  0.16153664,  0.16848287,  0.2894058 ,  0.51214043,\n",
       "        0.91187144,  0.36050515,  0.33709263,  0.36797956,  0.48309942,\n",
       "        0.68044444,  0.58795378,  0.74300629,  0.47481455,  0.47645876,\n",
       "        0.8105608 ,  0.63494098,  0.47324626,  0.54096519,  0.73829201,\n",
       "        0.57964413,  0.53492424,  0.47507739,  0.35142938,  0.42236706,\n",
       "        0.68396991,  0.52646033,  0.78226996,  0.78309807,  0.38553423,\n",
       "        0.42925613,  0.27350554,  0.87211809,  0.57093161,  0.6114503 ,\n",
       "        0.39987945,  1.00872168,  0.10158622,  0.31530516,  0.53041554,\n",
       "        0.3037857 ,  0.70711691,  0.45336414,  0.43398043,  0.3088107 ,\n",
       "        0.54436529,  0.4603745 ,  0.26241325,  0.03538194,  0.33178493,\n",
       "        0.28430806,  0.68832368,  0.21874014,  0.91320792,  0.54554665,\n",
       "        0.61280488,  0.21472606,  0.49120781,  0.48105987, -0.02747378,\n",
       "        0.46524748,  0.61085031,  0.43578988,  0.33111069,  0.30673141,\n",
       "        0.35224069,  0.78485894,  0.7235793 ,  0.29131342,  0.74141575,\n",
       "       -0.01868766,  0.5633355 ,  0.55353909,  0.50125579,  0.42806957,\n",
       "        0.37514464,  0.19943783,  0.37799253,  0.42190264,  0.61459539,\n",
       "        0.25997883,  0.64296463,  0.56525763,  0.40333798,  0.58908543,\n",
       "        0.62972758,  0.81495748,  0.60090444,  0.06970836,  0.25691863,\n",
       "        0.52943583,  0.54568845,  0.36959477,  0.49161563,  0.52063351,\n",
       "        0.67597655,  0.6653591 ,  0.3526288 ,  0.49242052,  0.68651511,\n",
       "        0.44582838,  0.43830748,  0.8525414 ,  0.97350758,  0.48360606,\n",
       "        0.4014512 ,  0.26921721,  0.70136113,  0.49140167,  0.43335955,\n",
       "        0.5653408 ,  0.54287104,  0.33257081,  0.4065499 ,  0.33377882,\n",
       "        0.5511879 ,  0.62243086,  0.56012115,  0.68400193,  0.34090495,\n",
       "        0.39465467,  0.4608213 ,  0.46297716,  0.74571609,  0.40385382,\n",
       "        0.42362632,  0.41771468,  0.38514548,  0.75487376,  0.42665379,\n",
       "        0.46828652,  0.67555585,  0.4916427 ,  0.45400766,  0.31525195,\n",
       "        0.8626917 ,  0.52509993,  0.42135222,  0.24052228,  0.33034202,\n",
       "        0.52733616,  0.40668957,  0.404302  ,  0.70021305,  0.42302599,\n",
       "        0.32675655,  0.78956258,  0.43163071,  0.37435613,  0.70790259,\n",
       "        0.57794711,  0.26823289,  0.56486058,  0.75614777,  0.20774494,\n",
       "        0.63995905,  0.53820757,  0.56993505,  0.49349974,  0.33529886,\n",
       "        0.52540696,  0.45872222,  0.82256797,  0.49531795,  0.4508636 ,\n",
       "        0.18162455,  0.61925733,  0.19548125,  0.36380089,  0.53258413,\n",
       "        0.56459591,  0.3935317 ,  0.38082313,  0.68324855,  0.42540854,\n",
       "        0.55701121,  0.35388564,  0.34176354,  0.31335754,  0.4929877 ,\n",
       "        0.72018496,  0.26952133,  0.47543139,  0.67048191,  0.6006472 ,\n",
       "        0.99328387,  0.40369531,  0.48055272,  0.5005533 ,  0.35101307,\n",
       "        0.69706733,  0.8637632 ,  0.13048736,  0.54133724,  0.41752101,\n",
       "        0.3742781 ,  0.57137105,  0.47107457,  0.33524934,  0.53127607,\n",
       "        0.70684744,  0.43213523,  0.87290922,  0.58892668,  0.63805631,\n",
       "        0.46457286,  0.63688307,  0.3859843 ,  0.21712066,  0.51426014,\n",
       "        0.59742363,  0.73757136,  0.81481553,  0.86077429,  0.61548302,\n",
       "        0.49320718,  0.3746943 ,  0.2997812 ,  0.58484652,  0.38766897,\n",
       "        0.37900022,  0.38154968,  0.35222696,  0.25295675,  0.40912322,\n",
       "        0.5724224 ,  0.78836033,  0.42713623,  0.55568292,  0.83662747,\n",
       "        0.63776045,  0.42431941,  0.23514521,  0.49354715,  0.47172764,\n",
       "        0.50361605,  0.21468012,  0.57624234,  0.49396979,  0.53597561,\n",
       "        0.21265881,  0.85649722,  0.2328045 ,  0.78896207,  0.17697295,\n",
       "        0.32131016,  0.55997957,  0.19522671,  0.73319175,  0.24652444,\n",
       "        0.37291266,  0.16177167,  0.71038036,  0.64386679,  0.60786345,\n",
       "        0.7677131 ,  0.57714506,  0.12822999,  0.63228793,  0.37015897,\n",
       "        0.45891654,  0.63852607,  0.68089706,  0.3438922 ,  0.85004373,\n",
       "        0.60651153,  0.39374212,  0.24973353,  0.37230783,  0.76503399,\n",
       "        0.1441921 ,  0.67312745,  0.44909836,  0.50030196,  0.54252979,\n",
       "        0.45694785,  0.29241176,  0.39897085,  0.74161915,  0.30641491,\n",
       "        0.09935666,  0.42651581,  0.54976019,  0.37439422,  0.88606034,\n",
       "        0.3124771 ,  0.55475634,  0.73324793,  0.51732887,  0.53463857,\n",
       "        0.31969514,  0.46754392,  0.56045196,  0.61821593,  0.21956986,\n",
       "        0.30426072,  0.58954201,  0.57577849,  0.70595154,  0.76635698])"
      ]
     },
     "execution_count": 124,
     "metadata": {},
     "output_type": "execute_result"
    }
   ],
   "source": [
    "np.random.normal(0.5,0.2 , 1000)"
   ]
  },
  {
   "cell_type": "code",
   "execution_count": 126,
   "id": "cbd47ad3-8759-41f4-9c13-8d1249ec989c",
   "metadata": {},
   "outputs": [],
   "source": [
    "s = np.random.normal(0.5,0.2 , 1000)"
   ]
  },
  {
   "cell_type": "code",
   "execution_count": 127,
   "id": "faabd209-94c1-414c-8cf6-7c595e5ca8d7",
   "metadata": {},
   "outputs": [
    {
     "data": {
      "text/plain": [
       "<AxesSubplot: ylabel='Count'>"
      ]
     },
     "execution_count": 127,
     "metadata": {},
     "output_type": "execute_result"
    },
    {
     "data": {
      "image/png": "[encoded data removed]",
      "text/plain": [
       "<Figure size 640x480 with 1 Axes>"
      ]
     },
     "metadata": {},
     "output_type": "display_data"
    }
   ],
   "source": [
    "sns.histplot(s,kde = True)"
   ]
  },
  {
   "cell_type": "code",
   "execution_count": 175,
   "id": "6f0b2919-a484-4831-b05e-2930943fea8a",
   "metadata": {},
   "outputs": [
    {
     "data": {
      "text/plain": [
       "<AxesSubplot: xlabel='PetalWidthCm', ylabel='Count'>"
      ]
     },
     "execution_count": 175,
     "metadata": {},
     "output_type": "execute_result"
    },
    {
     "data": {
      "image/png": "[encoded data removed]",
      "text/plain": [
       "<Figure size 640x480 with 1 Axes>"
      ]
     },
     "metadata": {},
     "output_type": "display_data"
    }
   ],
   "source": [
    "sns.histplot(data2[\"PetalWidthCm\"] , kde = True)"
   ]
  },
  {
   "cell_type": "code",
   "execution_count": 188,
   "id": "79220583-6a94-4b73-b09f-c3aef558137a",
   "metadata": {},
   "outputs": [],
   "source": [
    "import numpy as np\n",
    "s = np.random.normal(0.5,0.2,1000)"
   ]
  },
  {
   "cell_type": "code",
   "execution_count": 189,
   "id": "585e8075-916a-476d-bc95-4c07c57dc228",
   "metadata": {},
   "outputs": [
    {
     "data": {
      "text/plain": [
       "<AxesSubplot: ylabel='Count'>"
      ]
     },
     "execution_count": 189,
     "metadata": {},
     "output_type": "execute_result"
    },
    {
     "data": {
      "image/png": "[encoded data removed]",
      "text/plain": [
       "<Figure size 640x480 with 1 Axes>"
      ]
     },
     "metadata": {},
     "output_type": "display_data"
    }
   ],
   "source": [
    "sns.histplot(s,kde = True)"
   ]
  },
  {
   "cell_type": "code",
   "execution_count": 129,
   "id": "8e504309-b1f8-4a37-af09-44ef6df89cb5",
   "metadata": {},
   "outputs": [],
   "source": [
    "mu,sigma = 3.0,1.0\n",
    "p = np.random.lognormal(mu,sigma,1000)"
   ]
  },
  {
   "cell_type": "code",
   "execution_count": 130,
   "id": "49f6fc76-fe21-4764-862a-63b0e595dae5",
   "metadata": {},
   "outputs": [
    {
     "data": {
      "text/plain": [
       "<AxesSubplot: ylabel='Count'>"
      ]
     },
     "execution_count": 130,
     "metadata": {},
     "output_type": "execute_result"
    },
    {
     "data": {
      "image/png": "[encoded data removed]",
      "text/plain": [
       "<Figure size 640x480 with 1 Axes>"
      ]
     },
     "metadata": {},
     "output_type": "display_data"
    }
   ],
   "source": [
    "sns.histplot(p,kde = True)"
   ]
  },
  {
   "cell_type": "code",
   "execution_count": 133,
   "id": "81aebde9-b2ba-41b0-a06b-42cfc991beb7",
   "metadata": {},
   "outputs": [],
   "source": [
    "mu,sigma = 3.0,1.0\n",
    "p = np.random.lognormal(mu,sigma,1000)"
   ]
  },
  {
   "cell_type": "code",
   "execution_count": 131,
   "id": "9efc04e6-c36c-4b41-af04-7239c1bb7110",
   "metadata": {},
   "outputs": [
    {
     "data": {
      "text/plain": [
       "<AxesSubplot: ylabel='Count'>"
      ]
     },
     "execution_count": 131,
     "metadata": {},
     "output_type": "execute_result"
    },
    {
     "data": {
      "image/png": "[encoded data removed]",
      "text/plain": [
       "<Figure size 640x480 with 1 Axes>"
      ]
     },
     "metadata": {},
     "output_type": "display_data"
    }
   ],
   "source": [
    "sns.histplot(np.log(p),kde = True)"
   ]
  },
  {
   "cell_type": "code",
   "execution_count": 185,
   "id": "17acb79e-adb6-49d3-90b2-75ec5b025a7d",
   "metadata": {},
   "outputs": [
    {
     "data": {
      "text/plain": [
       "<AxesSubplot: ylabel='Count'>"
      ]
     },
     "execution_count": 185,
     "metadata": {},
     "output_type": "execute_result"
    },
    {
     "data": {
      "image/png": "[encoded data removed]",
      "text/plain": [
       "<Figure size 640x480 with 1 Axes>"
      ]
     },
     "metadata": {},
     "output_type": "display_data"
    }
   ],
   "source": [
    "sns.histplot(p,kde = True)"
   ]
  },
  {
   "cell_type": "code",
   "execution_count": 187,
   "id": "1bf297cc-dc1b-47b5-995d-f345951497d1",
   "metadata": {},
   "outputs": [
    {
     "data": {
      "text/plain": [
       "<AxesSubplot: ylabel='Count'>"
      ]
     },
     "execution_count": 187,
     "metadata": {},
     "output_type": "execute_result"
    },
    {
     "data": {
      "image/png": "[encoded data removed]",
      "text/plain": [
       "<Figure size 640x480 with 1 Axes>"
      ]
     },
     "metadata": {},
     "output_type": "display_data"
    }
   ],
   "source": [
    "sns.histplot(np.log(p),kde = True)"
   ]
  },
  {
   "cell_type": "code",
   "execution_count": 135,
   "id": "f0b9c69c-4aa5-4115-bf72-ad8456251fef",
   "metadata": {},
   "outputs": [],
   "source": [
    "import matplotlib.pyplot  as plt\n",
    "import scipy.stats as stat\n",
    "import pylab\n",
    "def plot_data(sample):\n",
    "    plt.figure(figsize = (10,6))\n",
    "    plt.subplot(1,2,1)\n",
    "    sns.histplot(sample)\n",
    "    plt.subplot(1,2,2)\n",
    "    stat.probplot(sample , dist= 'norm' , plot= pylab)\n",
    "    plt.show()"
   ]
  },
  {
   "cell_type": "code",
   "execution_count": 136,
   "id": "bb52e18b-3c0a-4987-bb1a-1ad7d188f2b9",
   "metadata": {},
   "outputs": [
    {
     "data": {
      "image/png": "[encoded data removed]",
      "text/plain": [
       "<Figure size 1000x600 with 2 Axes>"
      ]
     },
     "metadata": {},
     "output_type": "display_data"
    }
   ],
   "source": [
    "plot_data(data)"
   ]
  },
  {
   "cell_type": "code",
   "execution_count": 137,
   "id": "022b9911-dab4-48af-9d76-e03174cd475b",
   "metadata": {},
   "outputs": [
    {
     "data": {
      "image/png": "[encoded data removed]",
      "text/plain": [
       "<Figure size 1000x600 with 2 Axes>"
      ]
     },
     "metadata": {},
     "output_type": "display_data"
    }
   ],
   "source": [
    "plot_data(p)"
   ]
  },
  {
   "cell_type": "code",
   "execution_count": 139,
   "id": "f74983b0-a6d0-493f-af97-4ec2a5da2926",
   "metadata": {},
   "outputs": [
    {
     "data": {
      "image/png": "[encoded data removed]",
      "text/plain": [
       "<Figure size 1000x600 with 2 Axes>"
      ]
     },
     "metadata": {},
     "output_type": "display_data"
    }
   ],
   "source": [
    "plot_data(np.log(p))"
   ]
  },
  {
   "cell_type": "code",
   "execution_count": 140,
   "id": "0a018b01-0449-42cc-a78f-c471c17adcb1",
   "metadata": {},
   "outputs": [
    {
     "data": {
      "text/html": [
       "<div>\n",
       "<style scoped>\n",
       "    .dataframe tbody tr th:only-of-type {\n",
       "        vertical-align: middle;\n",
       "    }\n",
       "\n",
       "    .dataframe tbody tr th {\n",
       "        vertical-align: top;\n",
       "    }\n",
       "\n",
       "    .dataframe thead th {\n",
       "        text-align: right;\n",
       "    }\n",
       "</style>\n",
       "<table border=\"1\" class=\"dataframe\">\n",
       "  <thead>\n",
       "    <tr style=\"text-align: right;\">\n",
       "      <th></th>\n",
       "      <th>PassengerId</th>\n",
       "      <th>Survived</th>\n",
       "      <th>Pclass</th>\n",
       "      <th>Name</th>\n",
       "      <th>Sex</th>\n",
       "      <th>Age</th>\n",
       "      <th>SibSp</th>\n",
       "      <th>Parch</th>\n",
       "      <th>Ticket</th>\n",
       "      <th>Fare</th>\n",
       "      <th>Cabin</th>\n",
       "      <th>Embarked</th>\n",
       "    </tr>\n",
       "  </thead>\n",
       "  <tbody>\n",
       "    <tr>\n",
       "      <th>0</th>\n",
       "      <td>1</td>\n",
       "      <td>0</td>\n",
       "      <td>3</td>\n",
       "      <td>Braund, Mr. Owen Harris</td>\n",
       "      <td>male</td>\n",
       "      <td>22.0</td>\n",
       "      <td>1</td>\n",
       "      <td>0</td>\n",
       "      <td>A/5 21171</td>\n",
       "      <td>7.2500</td>\n",
       "      <td>NaN</td>\n",
       "      <td>S</td>\n",
       "    </tr>\n",
       "    <tr>\n",
       "      <th>1</th>\n",
       "      <td>2</td>\n",
       "      <td>1</td>\n",
       "      <td>1</td>\n",
       "      <td>Cumings, Mrs. John Bradley (Florence Briggs Th...</td>\n",
       "      <td>female</td>\n",
       "      <td>38.0</td>\n",
       "      <td>1</td>\n",
       "      <td>0</td>\n",
       "      <td>PC 17599</td>\n",
       "      <td>71.2833</td>\n",
       "      <td>C85</td>\n",
       "      <td>C</td>\n",
       "    </tr>\n",
       "    <tr>\n",
       "      <th>2</th>\n",
       "      <td>3</td>\n",
       "      <td>1</td>\n",
       "      <td>3</td>\n",
       "      <td>Heikkinen, Miss. Laina</td>\n",
       "      <td>female</td>\n",
       "      <td>26.0</td>\n",
       "      <td>0</td>\n",
       "      <td>0</td>\n",
       "      <td>STON/O2. 3101282</td>\n",
       "      <td>7.9250</td>\n",
       "      <td>NaN</td>\n",
       "      <td>S</td>\n",
       "    </tr>\n",
       "    <tr>\n",
       "      <th>3</th>\n",
       "      <td>4</td>\n",
       "      <td>1</td>\n",
       "      <td>1</td>\n",
       "      <td>Futrelle, Mrs. Jacques Heath (Lily May Peel)</td>\n",
       "      <td>female</td>\n",
       "      <td>35.0</td>\n",
       "      <td>1</td>\n",
       "      <td>0</td>\n",
       "      <td>113803</td>\n",
       "      <td>53.1000</td>\n",
       "      <td>C123</td>\n",
       "      <td>S</td>\n",
       "    </tr>\n",
       "    <tr>\n",
       "      <th>4</th>\n",
       "      <td>5</td>\n",
       "      <td>0</td>\n",
       "      <td>3</td>\n",
       "      <td>Allen, Mr. William Henry</td>\n",
       "      <td>male</td>\n",
       "      <td>35.0</td>\n",
       "      <td>0</td>\n",
       "      <td>0</td>\n",
       "      <td>373450</td>\n",
       "      <td>8.0500</td>\n",
       "      <td>NaN</td>\n",
       "      <td>S</td>\n",
       "    </tr>\n",
       "    <tr>\n",
       "      <th>...</th>\n",
       "      <td>...</td>\n",
       "      <td>...</td>\n",
       "      <td>...</td>\n",
       "      <td>...</td>\n",
       "      <td>...</td>\n",
       "      <td>...</td>\n",
       "      <td>...</td>\n",
       "      <td>...</td>\n",
       "      <td>...</td>\n",
       "      <td>...</td>\n",
       "      <td>...</td>\n",
       "      <td>...</td>\n",
       "    </tr>\n",
       "    <tr>\n",
       "      <th>886</th>\n",
       "      <td>887</td>\n",
       "      <td>0</td>\n",
       "      <td>2</td>\n",
       "      <td>Montvila, Rev. Juozas</td>\n",
       "      <td>male</td>\n",
       "      <td>27.0</td>\n",
       "      <td>0</td>\n",
       "      <td>0</td>\n",
       "      <td>211536</td>\n",
       "      <td>13.0000</td>\n",
       "      <td>NaN</td>\n",
       "      <td>S</td>\n",
       "    </tr>\n",
       "    <tr>\n",
       "      <th>887</th>\n",
       "      <td>888</td>\n",
       "      <td>1</td>\n",
       "      <td>1</td>\n",
       "      <td>Graham, Miss. Margaret Edith</td>\n",
       "      <td>female</td>\n",
       "      <td>19.0</td>\n",
       "      <td>0</td>\n",
       "      <td>0</td>\n",
       "      <td>112053</td>\n",
       "      <td>30.0000</td>\n",
       "      <td>B42</td>\n",
       "      <td>S</td>\n",
       "    </tr>\n",
       "    <tr>\n",
       "      <th>888</th>\n",
       "      <td>889</td>\n",
       "      <td>0</td>\n",
       "      <td>3</td>\n",
       "      <td>Johnston, Miss. Catherine Helen \"Carrie\"</td>\n",
       "      <td>female</td>\n",
       "      <td>NaN</td>\n",
       "      <td>1</td>\n",
       "      <td>2</td>\n",
       "      <td>W./C. 6607</td>\n",
       "      <td>23.4500</td>\n",
       "      <td>NaN</td>\n",
       "      <td>S</td>\n",
       "    </tr>\n",
       "    <tr>\n",
       "      <th>889</th>\n",
       "      <td>890</td>\n",
       "      <td>1</td>\n",
       "      <td>1</td>\n",
       "      <td>Behr, Mr. Karl Howell</td>\n",
       "      <td>male</td>\n",
       "      <td>26.0</td>\n",
       "      <td>0</td>\n",
       "      <td>0</td>\n",
       "      <td>111369</td>\n",
       "      <td>30.0000</td>\n",
       "      <td>C148</td>\n",
       "      <td>C</td>\n",
       "    </tr>\n",
       "    <tr>\n",
       "      <th>890</th>\n",
       "      <td>891</td>\n",
       "      <td>0</td>\n",
       "      <td>3</td>\n",
       "      <td>Dooley, Mr. Patrick</td>\n",
       "      <td>male</td>\n",
       "      <td>32.0</td>\n",
       "      <td>0</td>\n",
       "      <td>0</td>\n",
       "      <td>370376</td>\n",
       "      <td>7.7500</td>\n",
       "      <td>NaN</td>\n",
       "      <td>Q</td>\n",
       "    </tr>\n",
       "  </tbody>\n",
       "</table>\n",
       "<p>891 rows × 12 columns</p>\n",
       "</div>"
      ],
      "text/plain": [
       "     PassengerId  Survived  Pclass  \\\n",
       "0              1         0       3   \n",
       "1              2         1       1   \n",
       "2              3         1       3   \n",
       "3              4         1       1   \n",
       "4              5         0       3   \n",
       "..           ...       ...     ...   \n",
       "886          887         0       2   \n",
       "887          888         1       1   \n",
       "888          889         0       3   \n",
       "889          890         1       1   \n",
       "890          891         0       3   \n",
       "\n",
       "                                                  Name     Sex   Age  SibSp  \\\n",
       "0                              Braund, Mr. Owen Harris    male  22.0      1   \n",
       "1    Cumings, Mrs. John Bradley (Florence Briggs Th...  female  38.0      1   \n",
       "2                               Heikkinen, Miss. Laina  female  26.0      0   \n",
       "3         Futrelle, Mrs. Jacques Heath (Lily May Peel)  female  35.0      1   \n",
       "4                             Allen, Mr. William Henry    male  35.0      0   \n",
       "..                                                 ...     ...   ...    ...   \n",
       "886                              Montvila, Rev. Juozas    male  27.0      0   \n",
       "887                       Graham, Miss. Margaret Edith  female  19.0      0   \n",
       "888           Johnston, Miss. Catherine Helen \"Carrie\"  female   NaN      1   \n",
       "889                              Behr, Mr. Karl Howell    male  26.0      0   \n",
       "890                                Dooley, Mr. Patrick    male  32.0      0   \n",
       "\n",
       "     Parch            Ticket     Fare Cabin Embarked  \n",
       "0        0         A/5 21171   7.2500   NaN        S  \n",
       "1        0          PC 17599  71.2833   C85        C  \n",
       "2        0  STON/O2. 3101282   7.9250   NaN        S  \n",
       "3        0            113803  53.1000  C123        S  \n",
       "4        0            373450   8.0500   NaN        S  \n",
       "..     ...               ...      ...   ...      ...  \n",
       "886      0            211536  13.0000   NaN        S  \n",
       "887      0            112053  30.0000   B42        S  \n",
       "888      2        W./C. 6607  23.4500   NaN        S  \n",
       "889      0            111369  30.0000  C148        C  \n",
       "890      0            370376   7.7500   NaN        Q  \n",
       "\n",
       "[891 rows x 12 columns]"
      ]
     },
     "execution_count": 140,
     "metadata": {},
     "output_type": "execute_result"
    }
   ],
   "source": [
    "data3"
   ]
  },
  {
   "cell_type": "code",
   "execution_count": 147,
   "id": "134c0cc1-0d40-468e-86dc-3f13c94972af",
   "metadata": {},
   "outputs": [
    {
     "name": "stdout",
     "output_type": "stream",
     "text": [
      "Requirement already satisfied: pandas_profiling in /opt/conda/lib/python3.10/site-packages (3.6.6)\n",
      "Requirement already satisfied: ydata-profiling in /opt/conda/lib/python3.10/site-packages (from pandas_profiling) (4.6.5)\n",
      "Requirement already satisfied: statsmodels<1,>=0.13.2 in /opt/conda/lib/python3.10/site-packages (from ydata-profiling->pandas_profiling) (0.13.5)\n",
      "Requirement already satisfied: phik<0.13,>=0.11.1 in /opt/conda/lib/python3.10/site-packages (from ydata-profiling->pandas_profiling) (0.12.4)\n",
      "Requirement already satisfied: PyYAML<6.1,>=5.0.0 in /opt/conda/lib/python3.10/site-packages (from ydata-profiling->pandas_profiling) (6.0)\n",
      "Requirement already satisfied: requests<3,>=2.24.0 in /opt/conda/lib/python3.10/site-packages (from ydata-profiling->pandas_profiling) (2.28.1)\n",
      "Requirement already satisfied: numpy<1.26,>=1.16.0 in /opt/conda/lib/python3.10/site-packages (from ydata-profiling->pandas_profiling) (1.23.5)\n",
      "Requirement already satisfied: numba<0.59.0,>=0.56.0 in /opt/conda/lib/python3.10/site-packages (from ydata-profiling->pandas_profiling) (0.56.4)\n",
      "Requirement already satisfied: pydantic>=2 in /opt/conda/lib/python3.10/site-packages (from ydata-profiling->pandas_profiling) (2.6.3)\n",
      "Requirement already satisfied: visions[type_image_path]==0.7.5 in /opt/conda/lib/python3.10/site-packages (from ydata-profiling->pandas_profiling) (0.7.5)\n",
      "Requirement already satisfied: jinja2<3.2,>=2.11.1 in /opt/conda/lib/python3.10/site-packages (from ydata-profiling->pandas_profiling) (3.1.2)\n",
      "Requirement already satisfied: dacite>=1.8 in /opt/conda/lib/python3.10/site-packages (from ydata-profiling->pandas_profiling) (1.8.1)\n",
      "Requirement already satisfied: seaborn<0.13,>=0.10.1 in /opt/conda/lib/python3.10/site-packages (from ydata-profiling->pandas_profiling) (0.12.1)\n",
      "Requirement already satisfied: pandas!=1.4.0,<3,>1.1 in /opt/conda/lib/python3.10/site-packages (from ydata-profiling->pandas_profiling) (1.5.2)\n",
      "Requirement already satisfied: multimethod<2,>=1.4 in /opt/conda/lib/python3.10/site-packages (from ydata-profiling->pandas_profiling) (1.11.2)\n",
      "Requirement already satisfied: htmlmin==0.1.12 in /opt/conda/lib/python3.10/site-packages (from ydata-profiling->pandas_profiling) (0.1.12)\n",
      "Requirement already satisfied: typeguard<5,>=4.1.2 in /opt/conda/lib/python3.10/site-packages (from ydata-profiling->pandas_profiling) (4.1.5)\n",
      "Requirement already satisfied: tqdm<5,>=4.48.2 in /opt/conda/lib/python3.10/site-packages (from ydata-profiling->pandas_profiling) (4.64.1)\n",
      "Requirement already satisfied: matplotlib<3.9,>=3.2 in /opt/conda/lib/python3.10/site-packages (from ydata-profiling->pandas_profiling) (3.6.2)\n",
      "Requirement already satisfied: imagehash==4.3.1 in /opt/conda/lib/python3.10/site-packages (from ydata-profiling->pandas_profiling) (4.3.1)\n",
      "Requirement already satisfied: scipy<1.12,>=1.4.1 in /opt/conda/lib/python3.10/site-packages (from ydata-profiling->pandas_profiling) (1.9.3)\n",
      "Requirement already satisfied: wordcloud>=1.9.1 in /opt/conda/lib/python3.10/site-packages (from ydata-profiling->pandas_profiling) (1.9.3)\n",
      "Requirement already satisfied: pillow in /opt/conda/lib/python3.10/site-packages (from imagehash==4.3.1->ydata-profiling->pandas_profiling) (9.2.0)\n",
      "Requirement already satisfied: PyWavelets in /opt/conda/lib/python3.10/site-packages (from imagehash==4.3.1->ydata-profiling->pandas_profiling) (1.3.0)\n",
      "Requirement already satisfied: networkx>=2.4 in /opt/conda/lib/python3.10/site-packages (from visions[type_image_path]==0.7.5->ydata-profiling->pandas_profiling) (2.8.8)\n",
      "Requirement already satisfied: tangled-up-in-unicode>=0.0.4 in /opt/conda/lib/python3.10/site-packages (from visions[type_image_path]==0.7.5->ydata-profiling->pandas_profiling) (0.2.0)\n",
      "Requirement already satisfied: attrs>=19.3.0 in /opt/conda/lib/python3.10/site-packages (from visions[type_image_path]==0.7.5->ydata-profiling->pandas_profiling) (22.1.0)\n",
      "Requirement already satisfied: MarkupSafe>=2.0 in /opt/conda/lib/python3.10/site-packages (from jinja2<3.2,>=2.11.1->ydata-profiling->pandas_profiling) (2.1.1)\n",
      "Requirement already satisfied: cycler>=0.10 in /opt/conda/lib/python3.10/site-packages (from matplotlib<3.9,>=3.2->ydata-profiling->pandas_profiling) (0.11.0)\n",
      "Requirement already satisfied: packaging>=20.0 in /opt/conda/lib/python3.10/site-packages (from matplotlib<3.9,>=3.2->ydata-profiling->pandas_profiling) (22.0)\n",
      "Requirement already satisfied: contourpy>=1.0.1 in /opt/conda/lib/python3.10/site-packages (from matplotlib<3.9,>=3.2->ydata-profiling->pandas_profiling) (1.0.6)\n",
      "Requirement already satisfied: python-dateutil>=2.7 in /opt/conda/lib/python3.10/site-packages (from matplotlib<3.9,>=3.2->ydata-profiling->pandas_profiling) (2.8.2)\n",
      "Requirement already satisfied: kiwisolver>=1.0.1 in /opt/conda/lib/python3.10/site-packages (from matplotlib<3.9,>=3.2->ydata-profiling->pandas_profiling) (1.4.4)\n",
      "Requirement already satisfied: fonttools>=4.22.0 in /opt/conda/lib/python3.10/site-packages (from matplotlib<3.9,>=3.2->ydata-profiling->pandas_profiling) (4.38.0)\n",
      "Requirement already satisfied: pyparsing>=2.2.1 in /opt/conda/lib/python3.10/site-packages (from matplotlib<3.9,>=3.2->ydata-profiling->pandas_profiling) (3.0.9)\n",
      "Requirement already satisfied: llvmlite<0.40,>=0.39.0dev0 in /opt/conda/lib/python3.10/site-packages (from numba<0.59.0,>=0.56.0->ydata-profiling->pandas_profiling) (0.39.1)\n",
      "Requirement already satisfied: setuptools in /opt/conda/lib/python3.10/site-packages (from numba<0.59.0,>=0.56.0->ydata-profiling->pandas_profiling) (65.5.1)\n",
      "Requirement already satisfied: pytz>=2020.1 in /opt/conda/lib/python3.10/site-packages (from pandas!=1.4.0,<3,>1.1->ydata-profiling->pandas_profiling) (2022.6)\n",
      "Requirement already satisfied: joblib>=0.14.1 in /opt/conda/lib/python3.10/site-packages (from phik<0.13,>=0.11.1->ydata-profiling->pandas_profiling) (1.2.0)\n",
      "Requirement already satisfied: typing-extensions>=4.6.1 in /opt/conda/lib/python3.10/site-packages (from pydantic>=2->ydata-profiling->pandas_profiling) (4.10.0)\n",
      "Requirement already satisfied: annotated-types>=0.4.0 in /opt/conda/lib/python3.10/site-packages (from pydantic>=2->ydata-profiling->pandas_profiling) (0.6.0)\n",
      "Requirement already satisfied: pydantic-core==2.16.3 in /opt/conda/lib/python3.10/site-packages (from pydantic>=2->ydata-profiling->pandas_profiling) (2.16.3)\n",
      "Requirement already satisfied: idna<4,>=2.5 in /opt/conda/lib/python3.10/site-packages (from requests<3,>=2.24.0->ydata-profiling->pandas_profiling) (3.4)\n",
      "Requirement already satisfied: charset-normalizer<3,>=2 in /opt/conda/lib/python3.10/site-packages (from requests<3,>=2.24.0->ydata-profiling->pandas_profiling) (2.1.1)\n",
      "Requirement already satisfied: urllib3<1.27,>=1.21.1 in /opt/conda/lib/python3.10/site-packages (from requests<3,>=2.24.0->ydata-profiling->pandas_profiling) (1.26.13)\n",
      "Requirement already satisfied: certifi>=2017.4.17 in /opt/conda/lib/python3.10/site-packages (from requests<3,>=2.24.0->ydata-profiling->pandas_profiling) (2022.12.7)\n",
      "Requirement already satisfied: patsy>=0.5.2 in /opt/conda/lib/python3.10/site-packages (from statsmodels<1,>=0.13.2->ydata-profiling->pandas_profiling) (0.5.3)\n",
      "Requirement already satisfied: six in /opt/conda/lib/python3.10/site-packages (from patsy>=0.5.2->statsmodels<1,>=0.13.2->ydata-profiling->pandas_profiling) (1.16.0)\n",
      "Note: you may need to restart the kernel to use updated packages.\n"
     ]
    }
   ],
   "source": [
    "pip install pandas_profiling"
   ]
  },
  {
   "cell_type": "code",
   "execution_count": 149,
   "id": "fca1e285-413c-403c-a7a5-34a9141cad8f",
   "metadata": {},
   "outputs": [
    {
     "name": "stdout",
     "output_type": "stream",
     "text": [
      "Requirement already satisfied: ydata-profiling in /opt/conda/lib/python3.10/site-packages (4.6.5)\n",
      "Requirement already satisfied: dacite>=1.8 in /opt/conda/lib/python3.10/site-packages (from ydata-profiling) (1.8.1)\n",
      "Requirement already satisfied: htmlmin==0.1.12 in /opt/conda/lib/python3.10/site-packages (from ydata-profiling) (0.1.12)\n",
      "Requirement already satisfied: pandas!=1.4.0,<3,>1.1 in /opt/conda/lib/python3.10/site-packages (from ydata-profiling) (1.5.2)\n",
      "Requirement already satisfied: numpy<1.26,>=1.16.0 in /opt/conda/lib/python3.10/site-packages (from ydata-profiling) (1.23.5)\n",
      "Requirement already satisfied: wordcloud>=1.9.1 in /opt/conda/lib/python3.10/site-packages (from ydata-profiling) (1.9.3)\n",
      "Requirement already satisfied: multimethod<2,>=1.4 in /opt/conda/lib/python3.10/site-packages (from ydata-profiling) (1.11.2)\n",
      "Requirement already satisfied: typeguard<5,>=4.1.2 in /opt/conda/lib/python3.10/site-packages (from ydata-profiling) (4.1.5)\n",
      "Requirement already satisfied: phik<0.13,>=0.11.1 in /opt/conda/lib/python3.10/site-packages (from ydata-profiling) (0.12.4)\n",
      "Requirement already satisfied: seaborn<0.13,>=0.10.1 in /opt/conda/lib/python3.10/site-packages (from ydata-profiling) (0.12.1)\n",
      "Requirement already satisfied: PyYAML<6.1,>=5.0.0 in /opt/conda/lib/python3.10/site-packages (from ydata-profiling) (6.0)\n",
      "Requirement already satisfied: numba<0.59.0,>=0.56.0 in /opt/conda/lib/python3.10/site-packages (from ydata-profiling) (0.56.4)\n",
      "Requirement already satisfied: visions[type_image_path]==0.7.5 in /opt/conda/lib/python3.10/site-packages (from ydata-profiling) (0.7.5)\n",
      "Requirement already satisfied: scipy<1.12,>=1.4.1 in /opt/conda/lib/python3.10/site-packages (from ydata-profiling) (1.9.3)\n",
      "Requirement already satisfied: imagehash==4.3.1 in /opt/conda/lib/python3.10/site-packages (from ydata-profiling) (4.3.1)\n",
      "Requirement already satisfied: pydantic>=2 in /opt/conda/lib/python3.10/site-packages (from ydata-profiling) (2.6.3)\n",
      "Requirement already satisfied: statsmodels<1,>=0.13.2 in /opt/conda/lib/python3.10/site-packages (from ydata-profiling) (0.13.5)\n",
      "Requirement already satisfied: requests<3,>=2.24.0 in /opt/conda/lib/python3.10/site-packages (from ydata-profiling) (2.28.1)\n",
      "Requirement already satisfied: tqdm<5,>=4.48.2 in /opt/conda/lib/python3.10/site-packages (from ydata-profiling) (4.64.1)\n",
      "Requirement already satisfied: matplotlib<3.9,>=3.2 in /opt/conda/lib/python3.10/site-packages (from ydata-profiling) (3.6.2)\n",
      "Requirement already satisfied: jinja2<3.2,>=2.11.1 in /opt/conda/lib/python3.10/site-packages (from ydata-profiling) (3.1.2)\n",
      "Requirement already satisfied: pillow in /opt/conda/lib/python3.10/site-packages (from imagehash==4.3.1->ydata-profiling) (9.2.0)\n",
      "Requirement already satisfied: PyWavelets in /opt/conda/lib/python3.10/site-packages (from imagehash==4.3.1->ydata-profiling) (1.3.0)\n",
      "Requirement already satisfied: attrs>=19.3.0 in /opt/conda/lib/python3.10/site-packages (from visions[type_image_path]==0.7.5->ydata-profiling) (22.1.0)\n",
      "Requirement already satisfied: tangled-up-in-unicode>=0.0.4 in /opt/conda/lib/python3.10/site-packages (from visions[type_image_path]==0.7.5->ydata-profiling) (0.2.0)\n",
      "Requirement already satisfied: networkx>=2.4 in /opt/conda/lib/python3.10/site-packages (from visions[type_image_path]==0.7.5->ydata-profiling) (2.8.8)\n",
      "Requirement already satisfied: MarkupSafe>=2.0 in /opt/conda/lib/python3.10/site-packages (from jinja2<3.2,>=2.11.1->ydata-profiling) (2.1.1)\n",
      "Requirement already satisfied: python-dateutil>=2.7 in /opt/conda/lib/python3.10/site-packages (from matplotlib<3.9,>=3.2->ydata-profiling) (2.8.2)\n",
      "Requirement already satisfied: contourpy>=1.0.1 in /opt/conda/lib/python3.10/site-packages (from matplotlib<3.9,>=3.2->ydata-profiling) (1.0.6)\n",
      "Requirement already satisfied: cycler>=0.10 in /opt/conda/lib/python3.10/site-packages (from matplotlib<3.9,>=3.2->ydata-profiling) (0.11.0)\n",
      "Requirement already satisfied: pyparsing>=2.2.1 in /opt/conda/lib/python3.10/site-packages (from matplotlib<3.9,>=3.2->ydata-profiling) (3.0.9)\n",
      "Requirement already satisfied: kiwisolver>=1.0.1 in /opt/conda/lib/python3.10/site-packages (from matplotlib<3.9,>=3.2->ydata-profiling) (1.4.4)\n",
      "Requirement already satisfied: packaging>=20.0 in /opt/conda/lib/python3.10/site-packages (from matplotlib<3.9,>=3.2->ydata-profiling) (22.0)\n",
      "Requirement already satisfied: fonttools>=4.22.0 in /opt/conda/lib/python3.10/site-packages (from matplotlib<3.9,>=3.2->ydata-profiling) (4.38.0)\n",
      "Requirement already satisfied: llvmlite<0.40,>=0.39.0dev0 in /opt/conda/lib/python3.10/site-packages (from numba<0.59.0,>=0.56.0->ydata-profiling) (0.39.1)\n",
      "Requirement already satisfied: setuptools in /opt/conda/lib/python3.10/site-packages (from numba<0.59.0,>=0.56.0->ydata-profiling) (65.5.1)\n",
      "Requirement already satisfied: pytz>=2020.1 in /opt/conda/lib/python3.10/site-packages (from pandas!=1.4.0,<3,>1.1->ydata-profiling) (2022.6)\n",
      "Requirement already satisfied: joblib>=0.14.1 in /opt/conda/lib/python3.10/site-packages (from phik<0.13,>=0.11.1->ydata-profiling) (1.2.0)\n",
      "Requirement already satisfied: pydantic-core==2.16.3 in /opt/conda/lib/python3.10/site-packages (from pydantic>=2->ydata-profiling) (2.16.3)\n",
      "Requirement already satisfied: typing-extensions>=4.6.1 in /opt/conda/lib/python3.10/site-packages (from pydantic>=2->ydata-profiling) (4.10.0)\n",
      "Requirement already satisfied: annotated-types>=0.4.0 in /opt/conda/lib/python3.10/site-packages (from pydantic>=2->ydata-profiling) (0.6.0)\n",
      "Requirement already satisfied: urllib3<1.27,>=1.21.1 in /opt/conda/lib/python3.10/site-packages (from requests<3,>=2.24.0->ydata-profiling) (1.26.13)\n",
      "Requirement already satisfied: charset-normalizer<3,>=2 in /opt/conda/lib/python3.10/site-packages (from requests<3,>=2.24.0->ydata-profiling) (2.1.1)\n",
      "Requirement already satisfied: certifi>=2017.4.17 in /opt/conda/lib/python3.10/site-packages (from requests<3,>=2.24.0->ydata-profiling) (2022.12.7)\n",
      "Requirement already satisfied: idna<4,>=2.5 in /opt/conda/lib/python3.10/site-packages (from requests<3,>=2.24.0->ydata-profiling) (3.4)\n",
      "Requirement already satisfied: patsy>=0.5.2 in /opt/conda/lib/python3.10/site-packages (from statsmodels<1,>=0.13.2->ydata-profiling) (0.5.3)\n",
      "Requirement already satisfied: six in /opt/conda/lib/python3.10/site-packages (from patsy>=0.5.2->statsmodels<1,>=0.13.2->ydata-profiling) (1.16.0)\n",
      "Note: you may need to restart the kernel to use updated packages.\n"
     ]
    }
   ],
   "source": [
    "pip install ydata-profiling"
   ]
  },
  {
   "cell_type": "code",
   "execution_count": 152,
   "id": "ea386f09-12c6-4411-8fd1-f348b83c4e4c",
   "metadata": {},
   "outputs": [
    {
     "ename": "PydanticImportError",
     "evalue": "`BaseSettings` has been moved to the `pydantic-settings` package. See https://docs.pydantic.dev/2.6/migration/#basesettings-has-moved-to-pydantic-settings for more details.\n\nFor further information visit https://errors.pydantic.dev/2.6/u/import-error",
     "output_type": "error",
     "traceback": [
      "\u001b[0;31m---------------------------------------------------------------------------\u001b[0m",
      "\u001b[0;31mPydanticImportError\u001b[0m                       Traceback (most recent call last)",
      "Cell \u001b[0;32mIn[152], line 1\u001b[0m\n\u001b[0;32m----> 1\u001b[0m \u001b[38;5;28;01mfrom\u001b[39;00m \u001b[38;5;21;01mpandas_profiling\u001b[39;00m \u001b[38;5;28;01mimport\u001b[39;00m ProfileReport\n",
      "File \u001b[0;32m/opt/conda/lib/python3.10/site-packages/pandas_profiling/__init__.py:8\u001b[0m\n\u001b[1;32m      1\u001b[0m \u001b[38;5;124;03m\"\"\"Main module of pandas-profiling.\u001b[39;00m\n\u001b[1;32m      2\u001b[0m \n\u001b[1;32m      3\u001b[0m \u001b[38;5;124;03m.. include:: ../../README.md\u001b[39;00m\n\u001b[1;32m      4\u001b[0m \u001b[38;5;124;03m\"\"\"\u001b[39;00m\n\u001b[1;32m      6\u001b[0m \u001b[38;5;28;01mfrom\u001b[39;00m \u001b[38;5;21;01mwarnings\u001b[39;00m \u001b[38;5;28;01mimport\u001b[39;00m warn\n\u001b[0;32m----> 8\u001b[0m \u001b[38;5;28;01mfrom\u001b[39;00m \u001b[38;5;21;01mpandas_profiling\u001b[39;00m\u001b[38;5;21;01m.\u001b[39;00m\u001b[38;5;21;01mcompare_reports\u001b[39;00m \u001b[38;5;28;01mimport\u001b[39;00m compare\n\u001b[1;32m      9\u001b[0m \u001b[38;5;28;01mfrom\u001b[39;00m \u001b[38;5;21;01mpandas_profiling\u001b[39;00m\u001b[38;5;21;01m.\u001b[39;00m\u001b[38;5;21;01mcontroller\u001b[39;00m \u001b[38;5;28;01mimport\u001b[39;00m pandas_decorator\n\u001b[1;32m     10\u001b[0m \u001b[38;5;28;01mfrom\u001b[39;00m \u001b[38;5;21;01mpandas_profiling\u001b[39;00m\u001b[38;5;21;01m.\u001b[39;00m\u001b[38;5;21;01mprofile_report\u001b[39;00m \u001b[38;5;28;01mimport\u001b[39;00m ProfileReport\n",
      "File \u001b[0;32m/opt/conda/lib/python3.10/site-packages/pandas_profiling/compare_reports.py:6\u001b[0m\n\u001b[1;32m      2\u001b[0m \u001b[38;5;28;01mfrom\u001b[39;00m \u001b[38;5;21;01mtyping\u001b[39;00m \u001b[38;5;28;01mimport\u001b[39;00m Any, List, Optional, Tuple, Union\n\u001b[1;32m      4\u001b[0m \u001b[38;5;28;01mimport\u001b[39;00m \u001b[38;5;21;01mpandas\u001b[39;00m \u001b[38;5;28;01mas\u001b[39;00m \u001b[38;5;21;01mpd\u001b[39;00m\n\u001b[0;32m----> 6\u001b[0m \u001b[38;5;28;01mfrom\u001b[39;00m \u001b[38;5;21;01mpandas_profiling\u001b[39;00m\u001b[38;5;21;01m.\u001b[39;00m\u001b[38;5;21;01mconfig\u001b[39;00m \u001b[38;5;28;01mimport\u001b[39;00m Correlation, Settings\n\u001b[1;32m      7\u001b[0m \u001b[38;5;28;01mfrom\u001b[39;00m \u001b[38;5;21;01mpandas_profiling\u001b[39;00m\u001b[38;5;21;01m.\u001b[39;00m\u001b[38;5;21;01mmodel\u001b[39;00m\u001b[38;5;21;01m.\u001b[39;00m\u001b[38;5;21;01malerts\u001b[39;00m \u001b[38;5;28;01mimport\u001b[39;00m Alert\n\u001b[1;32m      8\u001b[0m \u001b[38;5;28;01mfrom\u001b[39;00m \u001b[38;5;21;01mpandas_profiling\u001b[39;00m\u001b[38;5;21;01m.\u001b[39;00m\u001b[38;5;21;01mprofile_report\u001b[39;00m \u001b[38;5;28;01mimport\u001b[39;00m ProfileReport\n",
      "File \u001b[0;32m/opt/conda/lib/python3.10/site-packages/pandas_profiling/config.py:7\u001b[0m\n\u001b[1;32m      4\u001b[0m \u001b[38;5;28;01mfrom\u001b[39;00m \u001b[38;5;21;01mtyping\u001b[39;00m \u001b[38;5;28;01mimport\u001b[39;00m Any, Dict, List, Optional, Tuple, Union\n\u001b[1;32m      6\u001b[0m \u001b[38;5;28;01mimport\u001b[39;00m \u001b[38;5;21;01myaml\u001b[39;00m\n\u001b[0;32m----> 7\u001b[0m \u001b[38;5;28;01mfrom\u001b[39;00m \u001b[38;5;21;01mpydantic\u001b[39;00m \u001b[38;5;28;01mimport\u001b[39;00m BaseModel, BaseSettings, Field, PrivateAttr\n\u001b[1;32m     10\u001b[0m \u001b[38;5;28;01mdef\u001b[39;00m \u001b[38;5;21m_merge_dictionaries\u001b[39m(dict1: \u001b[38;5;28mdict\u001b[39m, dict2: \u001b[38;5;28mdict\u001b[39m) \u001b[38;5;241m-\u001b[39m\u001b[38;5;241m>\u001b[39m \u001b[38;5;28mdict\u001b[39m:\n\u001b[1;32m     11\u001b[0m     \u001b[38;5;124;03m\"\"\"\u001b[39;00m\n\u001b[1;32m     12\u001b[0m \u001b[38;5;124;03m    Recursive merge dictionaries.\u001b[39;00m\n\u001b[1;32m     13\u001b[0m \n\u001b[0;32m   (...)\u001b[0m\n\u001b[1;32m     16\u001b[0m \u001b[38;5;124;03m    :return: Merged dictionary\u001b[39;00m\n\u001b[1;32m     17\u001b[0m \u001b[38;5;124;03m    \"\"\"\u001b[39;00m\n",
      "File \u001b[0;32m/opt/conda/lib/python3.10/site-packages/pydantic/__init__.py:374\u001b[0m, in \u001b[0;36m__getattr__\u001b[0;34m(attr_name)\u001b[0m\n\u001b[1;32m    372\u001b[0m dynamic_attr \u001b[38;5;241m=\u001b[39m _dynamic_imports\u001b[38;5;241m.\u001b[39mget(attr_name)\n\u001b[1;32m    373\u001b[0m \u001b[38;5;28;01mif\u001b[39;00m dynamic_attr \u001b[38;5;129;01mis\u001b[39;00m \u001b[38;5;28;01mNone\u001b[39;00m:\n\u001b[0;32m--> 374\u001b[0m     \u001b[38;5;28;01mreturn\u001b[39;00m \u001b[43m_getattr_migration\u001b[49m\u001b[43m(\u001b[49m\u001b[43mattr_name\u001b[49m\u001b[43m)\u001b[49m\n\u001b[1;32m    376\u001b[0m package, module_name \u001b[38;5;241m=\u001b[39m dynamic_attr\n\u001b[1;32m    378\u001b[0m \u001b[38;5;28;01mfrom\u001b[39;00m \u001b[38;5;21;01mimportlib\u001b[39;00m \u001b[38;5;28;01mimport\u001b[39;00m import_module\n",
      "File \u001b[0;32m/opt/conda/lib/python3.10/site-packages/pydantic/_migration.py:296\u001b[0m, in \u001b[0;36mgetattr_migration.<locals>.wrapper\u001b[0;34m(name)\u001b[0m\n\u001b[1;32m    294\u001b[0m     \u001b[38;5;28;01mreturn\u001b[39;00m import_string(REDIRECT_TO_V1[import_path])\n\u001b[1;32m    295\u001b[0m \u001b[38;5;28;01mif\u001b[39;00m import_path \u001b[38;5;241m==\u001b[39m \u001b[38;5;124m'\u001b[39m\u001b[38;5;124mpydantic:BaseSettings\u001b[39m\u001b[38;5;124m'\u001b[39m:\n\u001b[0;32m--> 296\u001b[0m     \u001b[38;5;28;01mraise\u001b[39;00m PydanticImportError(\n\u001b[1;32m    297\u001b[0m         \u001b[38;5;124m'\u001b[39m\u001b[38;5;124m`BaseSettings` has been moved to the `pydantic-settings` package. \u001b[39m\u001b[38;5;124m'\u001b[39m\n\u001b[1;32m    298\u001b[0m         \u001b[38;5;124mf\u001b[39m\u001b[38;5;124m'\u001b[39m\u001b[38;5;124mSee https://docs.pydantic.dev/\u001b[39m\u001b[38;5;132;01m{\u001b[39;00mversion_short()\u001b[38;5;132;01m}\u001b[39;00m\u001b[38;5;124m/migration/#basesettings-has-moved-to-pydantic-settings \u001b[39m\u001b[38;5;124m'\u001b[39m\n\u001b[1;32m    299\u001b[0m         \u001b[38;5;124m'\u001b[39m\u001b[38;5;124mfor more details.\u001b[39m\u001b[38;5;124m'\u001b[39m\n\u001b[1;32m    300\u001b[0m     )\n\u001b[1;32m    301\u001b[0m \u001b[38;5;28;01mif\u001b[39;00m import_path \u001b[38;5;129;01min\u001b[39;00m REMOVED_IN_V2:\n\u001b[1;32m    302\u001b[0m     \u001b[38;5;28;01mraise\u001b[39;00m PydanticImportError(\u001b[38;5;124mf\u001b[39m\u001b[38;5;124m'\u001b[39m\u001b[38;5;124m`\u001b[39m\u001b[38;5;132;01m{\u001b[39;00mimport_path\u001b[38;5;132;01m}\u001b[39;00m\u001b[38;5;124m` has been removed in V2.\u001b[39m\u001b[38;5;124m'\u001b[39m)\n",
      "\u001b[0;31mPydanticImportError\u001b[0m: `BaseSettings` has been moved to the `pydantic-settings` package. See https://docs.pydantic.dev/2.6/migration/#basesettings-has-moved-to-pydantic-settings for more details.\n\nFor further information visit https://errors.pydantic.dev/2.6/u/import-error"
     ]
    }
   ],
   "source": [
    "from pandas_profiling import ProfileReport"
   ]
  },
  {
   "cell_type": "code",
   "execution_count": 153,
   "id": "8e728ef5-9861-48c2-926d-db02fcf875e7",
   "metadata": {},
   "outputs": [
    {
     "name": "stdout",
     "output_type": "stream",
     "text": [
      "Requirement already satisfied: pandas-profiling in /opt/conda/lib/python3.10/site-packages (3.6.6)\n",
      "Requirement already satisfied: ydata-profiling in /opt/conda/lib/python3.10/site-packages (from pandas-profiling) (4.6.5)\n",
      "Requirement already satisfied: wordcloud>=1.9.1 in /opt/conda/lib/python3.10/site-packages (from ydata-profiling->pandas-profiling) (1.9.3)\n",
      "Requirement already satisfied: jinja2<3.2,>=2.11.1 in /opt/conda/lib/python3.10/site-packages (from ydata-profiling->pandas-profiling) (3.1.2)\n",
      "Requirement already satisfied: pydantic>=2 in /opt/conda/lib/python3.10/site-packages (from ydata-profiling->pandas-profiling) (2.6.3)\n",
      "Requirement already satisfied: imagehash==4.3.1 in /opt/conda/lib/python3.10/site-packages (from ydata-profiling->pandas-profiling) (4.3.1)\n",
      "Requirement already satisfied: pandas!=1.4.0,<3,>1.1 in /opt/conda/lib/python3.10/site-packages (from ydata-profiling->pandas-profiling) (1.5.2)\n",
      "Requirement already satisfied: visions[type_image_path]==0.7.5 in /opt/conda/lib/python3.10/site-packages (from ydata-profiling->pandas-profiling) (0.7.5)\n",
      "Requirement already satisfied: htmlmin==0.1.12 in /opt/conda/lib/python3.10/site-packages (from ydata-profiling->pandas-profiling) (0.1.12)\n",
      "Requirement already satisfied: dacite>=1.8 in /opt/conda/lib/python3.10/site-packages (from ydata-profiling->pandas-profiling) (1.8.1)\n",
      "Requirement already satisfied: seaborn<0.13,>=0.10.1 in /opt/conda/lib/python3.10/site-packages (from ydata-profiling->pandas-profiling) (0.12.1)\n",
      "Requirement already satisfied: tqdm<5,>=4.48.2 in /opt/conda/lib/python3.10/site-packages (from ydata-profiling->pandas-profiling) (4.64.1)\n",
      "Requirement already satisfied: requests<3,>=2.24.0 in /opt/conda/lib/python3.10/site-packages (from ydata-profiling->pandas-profiling) (2.28.1)\n",
      "Requirement already satisfied: statsmodels<1,>=0.13.2 in /opt/conda/lib/python3.10/site-packages (from ydata-profiling->pandas-profiling) (0.13.5)\n",
      "Requirement already satisfied: PyYAML<6.1,>=5.0.0 in /opt/conda/lib/python3.10/site-packages (from ydata-profiling->pandas-profiling) (6.0)\n",
      "Requirement already satisfied: scipy<1.12,>=1.4.1 in /opt/conda/lib/python3.10/site-packages (from ydata-profiling->pandas-profiling) (1.9.3)\n",
      "Requirement already satisfied: numpy<1.26,>=1.16.0 in /opt/conda/lib/python3.10/site-packages (from ydata-profiling->pandas-profiling) (1.23.5)\n",
      "Requirement already satisfied: typeguard<5,>=4.1.2 in /opt/conda/lib/python3.10/site-packages (from ydata-profiling->pandas-profiling) (4.1.5)\n",
      "Requirement already satisfied: multimethod<2,>=1.4 in /opt/conda/lib/python3.10/site-packages (from ydata-profiling->pandas-profiling) (1.11.2)\n",
      "Requirement already satisfied: matplotlib<3.9,>=3.2 in /opt/conda/lib/python3.10/site-packages (from ydata-profiling->pandas-profiling) (3.6.2)\n",
      "Requirement already satisfied: numba<0.59.0,>=0.56.0 in /opt/conda/lib/python3.10/site-packages (from ydata-profiling->pandas-profiling) (0.56.4)\n",
      "Requirement already satisfied: phik<0.13,>=0.11.1 in /opt/conda/lib/python3.10/site-packages (from ydata-profiling->pandas-profiling) (0.12.4)\n",
      "Requirement already satisfied: pillow in /opt/conda/lib/python3.10/site-packages (from imagehash==4.3.1->ydata-profiling->pandas-profiling) (9.2.0)\n",
      "Requirement already satisfied: PyWavelets in /opt/conda/lib/python3.10/site-packages (from imagehash==4.3.1->ydata-profiling->pandas-profiling) (1.3.0)\n",
      "Requirement already satisfied: attrs>=19.3.0 in /opt/conda/lib/python3.10/site-packages (from visions[type_image_path]==0.7.5->ydata-profiling->pandas-profiling) (22.1.0)\n",
      "Requirement already satisfied: networkx>=2.4 in /opt/conda/lib/python3.10/site-packages (from visions[type_image_path]==0.7.5->ydata-profiling->pandas-profiling) (2.8.8)\n",
      "Requirement already satisfied: tangled-up-in-unicode>=0.0.4 in /opt/conda/lib/python3.10/site-packages (from visions[type_image_path]==0.7.5->ydata-profiling->pandas-profiling) (0.2.0)\n",
      "Requirement already satisfied: MarkupSafe>=2.0 in /opt/conda/lib/python3.10/site-packages (from jinja2<3.2,>=2.11.1->ydata-profiling->pandas-profiling) (2.1.1)\n",
      "Requirement already satisfied: kiwisolver>=1.0.1 in /opt/conda/lib/python3.10/site-packages (from matplotlib<3.9,>=3.2->ydata-profiling->pandas-profiling) (1.4.4)\n",
      "Requirement already satisfied: contourpy>=1.0.1 in /opt/conda/lib/python3.10/site-packages (from matplotlib<3.9,>=3.2->ydata-profiling->pandas-profiling) (1.0.6)\n",
      "Requirement already satisfied: pyparsing>=2.2.1 in /opt/conda/lib/python3.10/site-packages (from matplotlib<3.9,>=3.2->ydata-profiling->pandas-profiling) (3.0.9)\n",
      "Requirement already satisfied: python-dateutil>=2.7 in /opt/conda/lib/python3.10/site-packages (from matplotlib<3.9,>=3.2->ydata-profiling->pandas-profiling) (2.8.2)\n",
      "Requirement already satisfied: cycler>=0.10 in /opt/conda/lib/python3.10/site-packages (from matplotlib<3.9,>=3.2->ydata-profiling->pandas-profiling) (0.11.0)\n",
      "Requirement already satisfied: fonttools>=4.22.0 in /opt/conda/lib/python3.10/site-packages (from matplotlib<3.9,>=3.2->ydata-profiling->pandas-profiling) (4.38.0)\n",
      "Requirement already satisfied: packaging>=20.0 in /opt/conda/lib/python3.10/site-packages (from matplotlib<3.9,>=3.2->ydata-profiling->pandas-profiling) (22.0)\n",
      "Requirement already satisfied: llvmlite<0.40,>=0.39.0dev0 in /opt/conda/lib/python3.10/site-packages (from numba<0.59.0,>=0.56.0->ydata-profiling->pandas-profiling) (0.39.1)\n",
      "Requirement already satisfied: setuptools in /opt/conda/lib/python3.10/site-packages (from numba<0.59.0,>=0.56.0->ydata-profiling->pandas-profiling) (65.5.1)\n",
      "Requirement already satisfied: pytz>=2020.1 in /opt/conda/lib/python3.10/site-packages (from pandas!=1.4.0,<3,>1.1->ydata-profiling->pandas-profiling) (2022.6)\n",
      "Requirement already satisfied: joblib>=0.14.1 in /opt/conda/lib/python3.10/site-packages (from phik<0.13,>=0.11.1->ydata-profiling->pandas-profiling) (1.2.0)\n",
      "Requirement already satisfied: typing-extensions>=4.6.1 in /opt/conda/lib/python3.10/site-packages (from pydantic>=2->ydata-profiling->pandas-profiling) (4.10.0)\n",
      "Requirement already satisfied: pydantic-core==2.16.3 in /opt/conda/lib/python3.10/site-packages (from pydantic>=2->ydata-profiling->pandas-profiling) (2.16.3)\n",
      "Requirement already satisfied: annotated-types>=0.4.0 in /opt/conda/lib/python3.10/site-packages (from pydantic>=2->ydata-profiling->pandas-profiling) (0.6.0)\n",
      "Requirement already satisfied: charset-normalizer<3,>=2 in /opt/conda/lib/python3.10/site-packages (from requests<3,>=2.24.0->ydata-profiling->pandas-profiling) (2.1.1)\n",
      "Requirement already satisfied: certifi>=2017.4.17 in /opt/conda/lib/python3.10/site-packages (from requests<3,>=2.24.0->ydata-profiling->pandas-profiling) (2022.12.7)\n",
      "Requirement already satisfied: urllib3<1.27,>=1.21.1 in /opt/conda/lib/python3.10/site-packages (from requests<3,>=2.24.0->ydata-profiling->pandas-profiling) (1.26.13)\n",
      "Requirement already satisfied: idna<4,>=2.5 in /opt/conda/lib/python3.10/site-packages (from requests<3,>=2.24.0->ydata-profiling->pandas-profiling) (3.4)\n",
      "Requirement already satisfied: patsy>=0.5.2 in /opt/conda/lib/python3.10/site-packages (from statsmodels<1,>=0.13.2->ydata-profiling->pandas-profiling) (0.5.3)\n",
      "Requirement already satisfied: six in /opt/conda/lib/python3.10/site-packages (from patsy>=0.5.2->statsmodels<1,>=0.13.2->ydata-profiling->pandas-profiling) (1.16.0)\n",
      "Note: you may need to restart the kernel to use updated packages.\n"
     ]
    }
   ],
   "source": [
    "pip install pandas-profiling"
   ]
  },
  {
   "cell_type": "code",
   "execution_count": 157,
   "id": "52087e18-2cd8-4c21-abe1-94a4a0378bd0",
   "metadata": {},
   "outputs": [],
   "source": [
    "import pandas as pd\n",
    "from ydata_profiling import ProfileReport\n",
    "\n",
    "df = pd.read_csv('https://raw.githubusercontent.com/sunnysavita10/Statistics-With-Python-TheCompleteGuide/main/Titanic.csv')\n",
    "profile = ProfileReport(df, title = \"Profiling Report\")"
   ]
  },
  {
   "cell_type": "code",
   "execution_count": 158,
   "id": "769ca75b-e445-43da-99bd-5264991b03bd",
   "metadata": {},
   "outputs": [
    {
     "name": "stderr",
     "output_type": "stream",
     "text": [
      "/opt/conda/lib/python3.10/site-packages/ydata_profiling/profile_report.py:354: UserWarning: Try running command: 'pip install --upgrade Pillow' to avoid ValueError\n",
      "  warnings.warn(\n"
     ]
    },
    {
     "data": {
      "application/vnd.jupyter.widget-view+json": {
       "model_id": "58d712d864aa49f6a1e0f1768f8261dc",
       "version_major": 2,
       "version_minor": 0
      },
      "text/plain": [
       "Summarize dataset:   0%|          | 0/5 [00:00<?, ?it/s]"
      ]
     },
     "metadata": {},
     "output_type": "display_data"
    },
    {
     "name": "stderr",
     "output_type": "stream",
     "text": [
      "/opt/conda/lib/python3.10/site-packages/ydata_profiling/model/pandas/discretize_pandas.py:52: FutureWarning: In a future version, `df.iloc[:, i] = newvals` will attempt to set the values inplace instead of always setting a new array. To retain the old behavior, use either `df[df.columns[i]] = newvals` or, if columns are non-unique, `df.isetitem(i, newvals)`\n",
      "  discretized_df.loc[:, column] = self._discretize_column(\n",
      "/opt/conda/lib/python3.10/site-packages/scipy/stats/_stats_py.py:112: RuntimeWarning: The input array could not be properly checked for nan values. nan values will be ignored.\n",
      "  warnings.warn(\"The input array could not be properly \"\n",
      "/opt/conda/lib/python3.10/site-packages/scipy/stats/_stats_py.py:112: RuntimeWarning: The input array could not be properly checked for nan values. nan values will be ignored.\n",
      "  warnings.warn(\"The input array could not be properly \"\n",
      "/opt/conda/lib/python3.10/site-packages/scipy/stats/_stats_py.py:112: RuntimeWarning: The input array could not be properly checked for nan values. nan values will be ignored.\n",
      "  warnings.warn(\"The input array could not be properly \"\n"
     ]
    },
    {
     "data": {
      "application/vnd.jupyter.widget-view+json": {
       "model_id": "85eeade366c144cb831e24d3ead37387",
       "version_major": 2,
       "version_minor": 0
      },
      "text/plain": [
       "Generate report structure:   0%|          | 0/1 [00:00<?, ?it/s]"
      ]
     },
     "metadata": {},
     "output_type": "display_data"
    },
    {
     "data": {
      "application/vnd.jupyter.widget-view+json": {
       "model_id": "d8fe85e2a36f47fda77bead420eece6c",
       "version_major": 2,
       "version_minor": 0
      },
      "text/plain": [
       "Render HTML:   0%|          | 0/1 [00:00<?, ?it/s]"
      ]
     },
     "metadata": {},
     "output_type": "display_data"
    },
    {
     "data": {
      "application/vnd.jupyter.widget-view+json": {
       "model_id": "cadac3acdf484b9982b74d40de3ff35c",
       "version_major": 2,
       "version_minor": 0
      },
      "text/plain": [
       "Export report to file:   0%|          | 0/1 [00:00<?, ?it/s]"
      ]
     },
     "metadata": {},
     "output_type": "display_data"
    }
   ],
   "source": [
    "profile.to_file(output_file = 'output.html')"
   ]
  },
  {
   "cell_type": "code",
   "execution_count": 159,
   "id": "87de57ad-21cb-48bd-8211-cc34ce27f8da",
   "metadata": {},
   "outputs": [
    {
     "name": "stdout",
     "output_type": "stream",
     "text": [
      "output.html  README.md\tsample-code.ipynb  Untitled.ipynb\n"
     ]
    }
   ],
   "source": [
    "!ls"
   ]
  },
  {
   "cell_type": "code",
   "execution_count": 160,
   "id": "4b5b8d8e-08f2-4cd7-b49f-de8fd5f0db92",
   "metadata": {},
   "outputs": [
    {
     "name": "stdout",
     "output_type": "stream",
     "text": [
      "Package                       Version\n",
      "----------------------------- -----------\n",
      "alembic                       1.8.1\n",
      "altair                        4.2.0\n",
      "annotated-types               0.6.0\n",
      "anyio                         3.6.2\n",
      "argon2-cffi                   21.3.0\n",
      "argon2-cffi-bindings          21.2.0\n",
      "asttokens                     2.2.1\n",
      "async-generator               1.10\n",
      "attrs                         22.1.0\n",
      "Babel                         2.11.0\n",
      "backcall                      0.2.0\n",
      "backports.functools-lru-cache 1.6.4\n",
      "beautifulsoup4                4.11.1\n",
      "bleach                        5.0.1\n",
      "blinker                       1.5\n",
      "bokeh                         3.0.3\n",
      "Bottleneck                    1.3.5\n",
      "brotlipy                      0.7.0\n",
      "cached-property               1.5.2\n",
      "certifi                       2022.12.7\n",
      "certipy                       0.1.3\n",
      "cffi                          1.15.1\n",
      "charset-normalizer            2.1.1\n",
      "click                         8.1.3\n",
      "cloudpickle                   2.2.0\n",
      "colorama                      0.4.6\n",
      "comm                          0.1.2\n",
      "conda                         22.11.1\n",
      "conda-package-handling        2.0.2\n",
      "conda_package_streaming       0.7.0\n",
      "contourpy                     1.0.6\n",
      "cryptography                  38.0.4\n",
      "cycler                        0.11.0\n",
      "Cython                        0.29.32\n",
      "cytoolz                       0.12.0\n",
      "dacite                        1.8.1\n",
      "dask                          2022.11.0\n",
      "debugpy                       1.6.4\n",
      "decorator                     5.1.1\n",
      "defusedxml                    0.7.1\n",
      "dill                          0.3.6\n",
      "distributed                   2022.11.0\n",
      "entrypoints                   0.4\n",
      "et-xmlfile                    1.0.1\n",
      "executing                     1.2.0\n",
      "fastjsonschema                2.16.2\n",
      "flit_core                     3.8.0\n",
      "fonttools                     4.38.0\n",
      "fsspec                        2022.11.0\n",
      "gmpy2                         2.1.2\n",
      "greenlet                      2.0.1\n",
      "h5py                          3.7.0\n",
      "HeapDict                      1.0.1\n",
      "htmlmin                       0.1.12\n",
      "idna                          3.4\n",
      "imagecodecs                   2022.9.26\n",
      "ImageHash                     4.3.1\n",
      "imageio                       2.22.4\n",
      "importlib-metadata            5.1.0\n",
      "importlib-resources           5.10.1\n",
      "ipykernel                     6.19.2\n",
      "ipympl                        0.9.2\n",
      "ipython                       8.7.0\n",
      "ipython-genutils              0.2.0\n",
      "ipywidgets                    8.0.3\n",
      "jedi                          0.18.2\n",
      "Jinja2                        3.1.2\n",
      "joblib                        1.2.0\n",
      "json5                         0.9.5\n",
      "jsonschema                    4.17.3\n",
      "jupyter-client                7.3.4\n",
      "jupyter_core                  5.1.0\n",
      "jupyter-events                0.5.0\n",
      "jupyter-server                1.23.3\n",
      "jupyter_server_terminals      0.4.2\n",
      "jupyter-telemetry             0.1.0\n",
      "jupyterhub                    3.1.0\n",
      "jupyterlab                    3.5.1\n",
      "jupyterlab-pygments           0.2.2\n",
      "jupyterlab_server             2.16.5\n",
      "jupyterlab-widgets            3.0.4\n",
      "kiwisolver                    1.4.4\n",
      "libmambapy                    1.1.0\n",
      "llvmlite                      0.39.1\n",
      "locket                        1.0.0\n",
      "lz4                           4.0.2\n",
      "Mako                          1.2.4\n",
      "mamba                         1.1.0\n",
      "MarkupSafe                    2.1.1\n",
      "matplotlib                    3.6.2\n",
      "matplotlib-inline             0.1.6\n",
      "mistune                       2.0.4\n",
      "mpmath                        1.2.1\n",
      "msgpack                       1.0.4\n",
      "multimethod                   1.11.2\n",
      "munkres                       1.1.4\n",
      "nbclassic                     0.4.8\n",
      "nbclient                      0.7.2\n",
      "nbconvert                     7.2.6\n",
      "nbformat                      5.7.0\n",
      "nest-asyncio                  1.5.6\n",
      "networkx                      2.8.8\n",
      "notebook                      6.5.2\n",
      "notebook_shim                 0.2.2\n",
      "numba                         0.56.4\n",
      "numexpr                       2.8.3\n",
      "numpy                         1.23.5\n",
      "oauthlib                      3.2.2\n",
      "openpyxl                      3.0.10\n",
      "packaging                     22.0\n",
      "pamela                        1.0.0\n",
      "pandas                        1.5.2\n",
      "pandas-profiling              3.6.6\n",
      "pandocfilters                 1.5.0\n",
      "parso                         0.8.3\n",
      "partd                         1.3.0\n",
      "patsy                         0.5.3\n",
      "pexpect                       4.8.0\n",
      "phik                          0.12.4\n",
      "pickleshare                   0.7.5\n",
      "Pillow                        9.2.0\n",
      "pip                           22.3.1\n",
      "pkgutil_resolve_name          1.3.10\n",
      "platformdirs                  2.6.0\n",
      "pluggy                        1.0.0\n",
      "prometheus-client             0.15.0\n",
      "prompt-toolkit                3.0.36\n",
      "protobuf                      4.21.11\n",
      "psutil                        5.9.4\n",
      "ptyprocess                    0.7.0\n",
      "pure-eval                     0.2.2\n",
      "pycosat                       0.6.4\n",
      "pycparser                     2.21\n",
      "pycurl                        7.45.1\n",
      "pydantic                      2.6.3\n",
      "pydantic_core                 2.16.3\n",
      "Pygments                      2.13.0\n",
      "PyJWT                         2.6.0\n",
      "pyOpenSSL                     22.1.0\n",
      "pyparsing                     3.0.9\n",
      "pyrsistent                    0.19.2\n",
      "PySocks                       1.7.1\n",
      "python-dateutil               2.8.2\n",
      "python-json-logger            2.0.1\n",
      "pytz                          2022.6\n",
      "pytz-deprecation-shim         0.1.0.post0\n",
      "PyWavelets                    1.3.0\n",
      "PyYAML                        6.0\n",
      "pyzmq                         24.0.1\n",
      "requests                      2.28.1\n",
      "rpy2                          3.5.6\n",
      "ruamel.yaml                   0.17.21\n",
      "ruamel.yaml.clib              0.2.7\n",
      "scikit-image                  0.19.3\n",
      "scikit-learn                  1.2.0\n",
      "scipy                         1.9.3\n",
      "seaborn                       0.12.1\n",
      "Send2Trash                    1.8.0\n",
      "setuptools                    65.5.1\n",
      "simplegeneric                 0.8.1\n",
      "six                           1.16.0\n",
      "sniffio                       1.3.0\n",
      "sortedcontainers              2.4.0\n",
      "soupsieve                     2.3.2.post1\n",
      "SQLAlchemy                    1.4.45\n",
      "stack-data                    0.6.2\n",
      "statsmodels                   0.13.5\n",
      "sympy                         1.11.1\n",
      "tables                        3.7.0\n",
      "tangled-up-in-unicode         0.2.0\n",
      "tblib                         1.7.0\n",
      "terminado                     0.17.1\n",
      "threadpoolctl                 3.1.0\n",
      "tifffile                      2022.10.10\n",
      "tinycss2                      1.2.1\n",
      "tomli                         2.0.1\n",
      "toolz                         0.12.0\n",
      "tornado                       6.1\n",
      "tqdm                          4.64.1\n",
      "traitlets                     5.7.1\n",
      "typeguard                     4.1.5\n",
      "typing_extensions             4.10.0\n",
      "tzdata                        2022.7\n",
      "tzlocal                       4.2\n",
      "unicodedata2                  15.0.0\n",
      "urllib3                       1.26.13\n",
      "visions                       0.7.5\n",
      "wcwidth                       0.2.5\n",
      "webencodings                  0.5.1\n",
      "websocket-client              1.4.2\n",
      "wheel                         0.38.4\n",
      "widgetsnbextension            4.0.4\n",
      "wordcloud                     1.9.3\n",
      "xlrd                          2.0.1\n",
      "xyzservices                   2022.9.0\n",
      "ydata-profiling               4.6.5\n",
      "zict                          2.2.0\n",
      "zipp                          3.11.0\n",
      "zstandard                     0.19.0\n",
      "Note: you may need to restart the kernel to use updated packages.\n"
     ]
    }
   ],
   "source": [
    "pip list"
   ]
  },
  {
   "cell_type": "code",
   "execution_count": null,
   "id": "f0bad966-c5c2-40f8-b4d6-121a7afd8ac5",
   "metadata": {},
   "outputs": [],
   "source": []
  }
 ],
 "metadata": {
  "kernelspec": {
   "display_name": "Python 3 (ipykernel)",
   "language": "python",
   "name": "python3"
  },
  "language_info": {
   "codemirror_mode": {
    "name": "ipython",
    "version": 3
   },
   "file_extension": ".py",
   "mimetype": "text/x-python",
   "name": "python",
   "nbconvert_exporter": "python",
   "pygments_lexer": "ipython3",
   "version": "3.10.8"
  }
 },
 "nbformat": 4,
 "nbformat_minor": 5
}
